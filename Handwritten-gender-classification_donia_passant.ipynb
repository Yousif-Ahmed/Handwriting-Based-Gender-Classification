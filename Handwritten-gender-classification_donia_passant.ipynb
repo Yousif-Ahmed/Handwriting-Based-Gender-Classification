{
 "cells": [
  {
   "cell_type": "code",
   "execution_count": 1,
   "id": "f135eb51",
   "metadata": {},
   "outputs": [],
   "source": [
    "import cv2\n",
    "import os\n",
    "import matplotlib.pyplot as plt\n",
    "import numpy as np\n",
    "from sklearn.model_selection import train_test_split\n",
    "import seaborn as sns\n",
    "from skimage.feature import hog, local_binary_pattern\n",
    "from sklearn.svm import LinearSVC\n",
    "from helpers import *"
   ]
  },
  {
   "cell_type": "markdown",
   "id": "c0030769",
   "metadata": {},
   "source": [
    "### Reading handwritten images from file and store it with it's lable \n",
    "for male y =0 and for female y =1"
   ]
  },
  {
   "cell_type": "code",
   "execution_count": 2,
   "id": "9a3bf41a",
   "metadata": {},
   "outputs": [
    {
     "name": "stdout",
     "output_type": "stream",
     "text": [
      "0start ..\n",
      "1start ..\n"
     ]
    },
    {
     "name": "stderr",
     "output_type": "stream",
     "text": [
      "e:\\DonyaAll\\CMP2023-Y3\\Second Sem\\Neural\\project\\helpers.py:31: VisibleDeprecationWarning: Creating an ndarray from ragged nested sequences (which is a list-or-tuple of lists-or-tuples-or ndarrays with different lengths or shapes) is deprecated. If you meant to do this, you must specify 'dtype=object' when creating the ndarray\n",
      "  return np.array(data)\n"
     ]
    }
   ],
   "source": [
    "data = read_data(\"data_set\")\n"
   ]
  },
  {
   "cell_type": "markdown",
   "id": "319c57e9",
   "metadata": {},
   "source": [
    "### spliting the data with randomness and visualizing the data "
   ]
  },
  {
   "cell_type": "code",
   "execution_count": 3,
   "id": "bef9af91",
   "metadata": {},
   "outputs": [],
   "source": [
    "data_train, data_test, y_train, y_test = train_test_split(\n",
    "    data[:, 0], data[:, 1], test_size=0.20, random_state=42)\n"
   ]
  },
  {
   "cell_type": "markdown",
   "id": "49178186",
   "metadata": {},
   "source": [
    "### Resize images to be 128*64 for HOG feature extraction"
   ]
  },
  {
   "cell_type": "code",
   "execution_count": 4,
   "id": "c91b8396",
   "metadata": {},
   "outputs": [],
   "source": [
    "data_train_resized = resized_images(data=data_train)\n",
    "data_test_resized = resized_images(data=data_test)\n"
   ]
  },
  {
   "cell_type": "code",
   "execution_count": 5,
   "id": "7a826d2f",
   "metadata": {},
   "outputs": [],
   "source": [
    "def apply_hog(data):\n",
    "    featureVecs = []\n",
    "    outputImgs = []\n",
    "    for img in data:\n",
    "        featureVecHog, hog_image = hog(img, orientations=9, pixels_per_cell=(8, 8),\n",
    "                                       cells_per_block=(3, 3), visualize=True, multichannel=False)\n",
    "        featureVecs.append(featureVecHog)\n",
    "        outputImgs.append(hog_image)\n",
    "    return featureVecs, outputImgs\n"
   ]
  },
  {
   "cell_type": "markdown",
   "id": "d96539bb",
   "metadata": {},
   "source": [
    "### LBP feature extraction using original images"
   ]
  },
  {
   "cell_type": "code",
   "execution_count": 31,
   "id": "42e4eaf3",
   "metadata": {},
   "outputs": [],
   "source": [
    "def describe(numPoints, radius, image):\n",
    "    # compute the Local Binary Pattern representation\n",
    "    # of the image, and then use the LBP representation\n",
    "    # to build the histogram of patterns\n",
    "    lbp = local_binary_pattern(image, numPoints,\n",
    "                               radius, method=\"uniform\")        \n",
    "    return lbp.ravel()"
   ]
  },
  {
   "cell_type": "code",
   "execution_count": 27,
   "id": "e35c9f46",
   "metadata": {},
   "outputs": [],
   "source": [
    "def apply_LBP(data, numPoints, Radius):\n",
    "    featureVecs = []\n",
    "    i=0\n",
    "    for img in data:\n",
    "        res= describe(numPoints, Radius, img)\n",
    "        featureVecs.append(res)\n",
    "        print(i, len(res))\n",
    "        i+=1\n",
    "    return featureVecs\n"
   ]
  },
  {
   "cell_type": "code",
   "execution_count": 18,
   "id": "8b6abf36",
   "metadata": {},
   "outputs": [
    {
     "name": "stdout",
     "output_type": "stream",
     "text": [
      "(128, 64)\n"
     ]
    }
   ],
   "source": [
    "print(data_train_resized[0].shape)"
   ]
  },
  {
   "cell_type": "code",
   "execution_count": 19,
   "id": "a7ab3ccf",
   "metadata": {},
   "outputs": [],
   "source": [
    "training_HOG, traning_imgs = apply_hog(data_train_resized)\n"
   ]
  },
  {
   "cell_type": "code",
   "execution_count": 20,
   "id": "d48fc2c1",
   "metadata": {},
   "outputs": [],
   "source": [
    "testing_HOG, testing_imgs = apply_hog(data_test_resized)"
   ]
  },
  {
   "cell_type": "code",
   "execution_count": 32,
   "id": "9b442689",
   "metadata": {},
   "outputs": [
    {
     "name": "stdout",
     "output_type": "stream",
     "text": [
      "0 4888080\n",
      "1 9342384\n",
      "2 6858316\n",
      "3 7202592\n",
      "4 9141460\n",
      "5 8213280\n",
      "6 5757696\n",
      "7 6761664\n",
      "8 6211008\n",
      "9 5524896\n",
      "10 11328660\n",
      "11 7906375\n",
      "12 9593136\n",
      "13 6340864\n",
      "14 5927600\n",
      "15 6922264\n",
      "16 9340884\n",
      "17 7398576\n",
      "18 6553248\n",
      "19 5375088\n",
      "20 5867040\n",
      "21 9724080\n",
      "22 5806672\n",
      "23 8677956\n",
      "24 5521600\n",
      "25 9904448\n",
      "26 6676800\n",
      "27 5829488\n",
      "28 5791072\n",
      "29 8632345\n",
      "30 9463440\n",
      "31 8801744\n",
      "32 9136160\n",
      "33 5673216\n",
      "34 6075963\n",
      "35 5046912\n",
      "36 9170928\n",
      "37 9653032\n",
      "38 5878544\n",
      "39 9507456\n",
      "40 5365440\n",
      "41 6013920\n",
      "42 7124544\n",
      "43 5280496\n"
     ]
    }
   ],
   "source": [
    "training_LBP = apply_LBP(data=data_train, numPoints=8, Radius=1)\n",
    "testing_LBP = apply_LBP(data=data_test, numPoints=8, Radius=1)\n"
   ]
  },
  {
   "cell_type": "code",
   "execution_count": 8,
   "id": "46e17fbc",
   "metadata": {},
   "outputs": [
    {
     "name": "stdout",
     "output_type": "stream",
     "text": [
      "6804\n"
     ]
    }
   ],
   "source": [
    "print(training_HOG[0].shape[0])"
   ]
  },
  {
   "cell_type": "code",
   "execution_count": 13,
   "id": "ae0952da",
   "metadata": {},
   "outputs": [],
   "source": [
    "all_training_feats = np.zeros((data_train.shape[0],training_HOG[0].shape[0]+training_LBP[0].shape[0] ))\n",
    "all_testing_feats = np.zeros((data_test.shape[0], testing_HOG[0].shape[0]+testing_LBP[0].shape[0]))"
   ]
  },
  {
   "cell_type": "code",
   "execution_count": 14,
   "id": "a1be732c",
   "metadata": {},
   "outputs": [],
   "source": [
    "all_training_feats[:,0:training_HOG[0].shape[0]]= training_HOG\n",
    "all_training_feats[:,training_HOG[0].shape[0]:(training_HOG[0].shape[0]+training_LBP[0].shape[0])]= training_LBP\n",
    "all_testing_feats[:,0:testing_HOG[0].shape[0]]= testing_HOG\n",
    "all_testing_feats[:,testing_HOG[0].shape[0]:(testing_HOG[0].shape[0]+testing_LBP[0].shape[0])]= testing_LBP"
   ]
  },
  {
   "cell_type": "code",
   "execution_count": 15,
   "id": "e2b6b911",
   "metadata": {},
   "outputs": [
    {
     "name": "stdout",
     "output_type": "stream",
     "text": [
      "290\n",
      "(6804,)\n",
      "290\n",
      "(10,)\n",
      "(290, 6814)\n"
     ]
    }
   ],
   "source": [
    "print(len(training_HOG))\n",
    "print(training_HOG[0].shape)\n",
    "print(len(training_LBP))\n",
    "\n",
    "print(training_LBP[0].shape)\n",
    "print(all_training_feats.shape)"
   ]
  },
  {
   "cell_type": "code",
   "execution_count": 29,
   "id": "9d08d30a",
   "metadata": {},
   "outputs": [],
   "source": [
    "def train_svm(data, y_train):\n",
    "    # train a Linear SVM on the data\n",
    "    model = LinearSVC(C=100.0, random_state=42)\n",
    "    y_train =y_train.astype('int')\n",
    "    model.fit(data, y_train)\n",
    "    return model\n"
   ]
  },
  {
   "cell_type": "code",
   "execution_count": 17,
   "id": "a90fb3a0",
   "metadata": {},
   "outputs": [
    {
     "name": "stdout",
     "output_type": "stream",
     "text": [
      "Training accuracy is 100.00\n",
      "Testing accuracy is 69.86\n"
     ]
    }
   ],
   "source": [
    "svm_m_all = train_svm(data=all_training_feats, y_train=y_train)\n",
    "train_predicted_all = svm_m_all.predict(all_training_feats)\n",
    "print(f\"Training accuracy is %0.2f\"%(np.sum(train_predicted_all == y_train)/len(y_train) * 100))\n",
    "test_predicted_all = svm_m_all.predict(all_testing_feats)\n",
    "print(f\"Testing accuracy is %0.2f\"%(np.sum(test_predicted_all == y_test)/len(y_test) * 100))"
   ]
  },
  {
   "cell_type": "code",
   "execution_count": 10,
   "id": "9b5c4775",
   "metadata": {},
   "outputs": [
    {
     "name": "stdout",
     "output_type": "stream",
     "text": [
      "Training accuracy is 100.00\n",
      "Testing accuracy is 67.12\n"
     ]
    }
   ],
   "source": [
    "svm_m_HOG = train_svm(data=training_HOG, y_train=y_train)\n",
    "train_predicted_HOG = svm_m_HOG.predict(training_HOG)\n",
    "print(f\"Training accuracy is %0.2f\"%(np.sum(train_predicted_HOG == y_train)/len(y_train) * 100))\n",
    "test_predicted_HOG = svm_m_HOG.predict(testing_HOG)\n",
    "print(f\"Testing accuracy is %0.2f\"%(np.sum(test_predicted_HOG == y_test)/len(y_test) * 100))\n"
   ]
  },
  {
   "cell_type": "code",
   "execution_count": 30,
   "id": "9b5c4775",
   "metadata": {},
   "outputs": [
    {
     "name": "stdout",
     "output_type": "stream",
     "text": [
      "Training accuracy is 63.45\n",
      "Testing accuracy is 65.75\n"
     ]
    },
    {
     "name": "stderr",
     "output_type": "stream",
     "text": [
      "c:\\Users\\Donia\\anaconda3\\lib\\site-packages\\sklearn\\svm\\_base.py:976: ConvergenceWarning: Liblinear failed to converge, increase the number of iterations.\n",
      "  warnings.warn(\"Liblinear failed to converge, increase \"\n"
     ]
    }
   ],
   "source": [
    "svm_m_LBP = train_svm(data=training_LBP, y_train=y_train)\n",
    "train_predicted_LBP = svm_m_LBP.predict(training_LBP)\n",
    "print(f\"Training accuracy is %0.2f\"%(np.sum(train_predicted_LBP == y_train)/len(y_train) * 100))\n",
    "test_predicted_LBP = svm_m_LBP.predict(testing_LBP)\n",
    "print(f\"Testing accuracy is %0.2f\"%(np.sum(test_predicted_LBP == y_test)/len(y_test) * 100))\n"
   ]
  },
  {
   "cell_type": "code",
   "execution_count": 20,
   "id": "735359f5",
   "metadata": {},
   "outputs": [
    {
     "name": "stderr",
     "output_type": "stream",
     "text": [
      "c:\\Users\\Donia\\anaconda3\\lib\\site-packages\\seaborn\\_decorators.py:36: FutureWarning: Pass the following variable as a keyword arg: x. From version 0.12, the only valid positional argument will be `data`, and passing other arguments without an explicit keyword will result in an error or misinterpretation.\n",
      "  warnings.warn(\n"
     ]
    },
    {
     "data": {
      "text/plain": [
       "<AxesSubplot:ylabel='count'>"
      ]
     },
     "execution_count": 20,
     "metadata": {},
     "output_type": "execute_result"
    },
    {
     "data": {
      "image/png": "[encoded data removed]",
      "text/plain": [
       "<Figure size 432x288 with 1 Axes>"
      ]
     },
     "metadata": {},
     "output_type": "display_data"
    }
   ],
   "source": [
    "lables = []\n",
    "for i in y_train:\n",
    "    if(i == 0):\n",
    "        lables.append(\"Males\")\n",
    "    else:\n",
    "        lables.append(\"Females\")\n",
    "sns.set_style('darkgrid')\n",
    "sns.countplot(lables)\n"
   ]
  },
  {
   "cell_type": "code",
   "execution_count": 21,
   "id": "5fc62d98",
   "metadata": {},
   "outputs": [
    {
     "ename": "error",
     "evalue": "OpenCV(4.5.4) d:\\a\\opencv-python\\opencv-python\\opencv\\modules\\imgproc\\src\\color.simd_helpers.hpp:92: error: (-2:Unspecified error) in function '__cdecl cv::impl::`anonymous-namespace'::CvtHelper<struct cv::impl::`anonymous namespace'::Set<3,4,-1>,struct cv::impl::A0x27ffac8e::Set<1,-1,-1>,struct cv::impl::A0x27ffac8e::Set<0,2,5>,2>::CvtHelper(const class cv::_InputArray &,const class cv::_OutputArray &,int)'\n> Invalid number of channels in input image:\n>     'VScn::contains(scn)'\n> where\n>     'scn' is 1\n",
     "output_type": "error",
     "traceback": [
      "\u001b[1;31m---------------------------------------------------------------------------\u001b[0m",
      "\u001b[1;31merror\u001b[0m                                     Traceback (most recent call last)",
      "\u001b[1;32m<ipython-input-21-2e4667fa72a2>\u001b[0m in \u001b[0;36m<module>\u001b[1;34m\u001b[0m\n\u001b[1;32m----> 1\u001b[1;33m \u001b[0mimage_gray\u001b[0m \u001b[1;33m=\u001b[0m \u001b[0mcv2\u001b[0m\u001b[1;33m.\u001b[0m\u001b[0mcvtColor\u001b[0m\u001b[1;33m(\u001b[0m\u001b[0mdata_train\u001b[0m\u001b[1;33m[\u001b[0m\u001b[1;36m2\u001b[0m\u001b[1;33m]\u001b[0m\u001b[1;33m,\u001b[0m \u001b[0mcv2\u001b[0m\u001b[1;33m.\u001b[0m\u001b[0mCOLOR_BGR2GRAY\u001b[0m\u001b[1;33m)\u001b[0m\u001b[1;33m\u001b[0m\u001b[1;33m\u001b[0m\u001b[0m\n\u001b[0m\u001b[0;32m      2\u001b[0m thresh = cv2.adaptiveThreshold(image_gray, 255, cv2.ADAPTIVE_THRESH_GAUSSIAN_C,\n\u001b[0;32m      3\u001b[0m                                cv2.THRESH_BINARY_INV, 11, 2)\n",
      "\u001b[1;31merror\u001b[0m: OpenCV(4.5.4) d:\\a\\opencv-python\\opencv-python\\opencv\\modules\\imgproc\\src\\color.simd_helpers.hpp:92: error: (-2:Unspecified error) in function '__cdecl cv::impl::`anonymous-namespace'::CvtHelper<struct cv::impl::`anonymous namespace'::Set<3,4,-1>,struct cv::impl::A0x27ffac8e::Set<1,-1,-1>,struct cv::impl::A0x27ffac8e::Set<0,2,5>,2>::CvtHelper(const class cv::_InputArray &,const class cv::_OutputArray &,int)'\n> Invalid number of channels in input image:\n>     'VScn::contains(scn)'\n> where\n>     'scn' is 1\n"
     ]
    }
   ],
   "source": [
    "image_gray = cv2.cvtColor(data_train[2], cv2.COLOR_BGR2GRAY)\n",
    "thresh = cv2.adaptiveThreshold(image_gray, 255, cv2.ADAPTIVE_THRESH_GAUSSIAN_C,\n",
    "                               cv2.THRESH_BINARY_INV, 11, 2)\n"
   ]
  },
  {
   "cell_type": "code",
   "execution_count": null,
   "id": "d2eb2430",
   "metadata": {},
   "outputs": [
    {
     "data": {
      "image/png": "[encoded data removed]",
      "text/plain": [
       "<Figure size 432x288 with 1 Axes>"
      ]
     },
     "metadata": {},
     "output_type": "display_data"
    }
   ],
   "source": [
    "plt.imshow(thresh, 'gray', vmin=0, vmax=255)\n",
    "plt.show()\n"
   ]
  },
  {
   "cell_type": "code",
   "execution_count": null,
   "id": "61b57206",
   "metadata": {},
   "outputs": [],
   "source": []
  },
  {
   "cell_type": "code",
   "execution_count": null,
   "id": "dcbe2b7e",
   "metadata": {},
   "outputs": [],
   "source": [
    "\n",
    "\n",
    "\n"
   ]
  },
  {
   "cell_type": "code",
   "execution_count": null,
   "id": "000f0f41",
   "metadata": {},
   "outputs": [],
   "source": []
  }
 ],
 "metadata": {
  "interpreter": {
   "hash": "0b0ef5f0ed5a8304c794243ac59cd3d89c3bef0367378030b53f572ec4c615a1"
  },
  "kernelspec": {
   "display_name": "Python 3.8.5 ('base')",
   "language": "python",
   "name": "python3"
  },
  "language_info": {
   "codemirror_mode": {
    "name": "ipython",
    "version": 3
   },
   "file_extension": ".py",
   "mimetype": "text/x-python",
   "name": "python",
   "nbconvert_exporter": "python",
   "pygments_lexer": "ipython3",
   "version": "3.8.5"
  }
 },
 "nbformat": 4,
 "nbformat_minor": 5
}
