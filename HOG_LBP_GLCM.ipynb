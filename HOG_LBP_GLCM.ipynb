{
 "cells": [
  {
   "cell_type": "code",
   "execution_count": 1,
   "id": "f135eb51",
   "metadata": {},
   "outputs": [],
   "source": [
    "import cv2\n",
    "import os\n",
    "import matplotlib.pyplot as plt\n",
    "import numpy as np\n",
    "from sklearn.model_selection import train_test_split\n",
    "import seaborn as sns\n",
    "from skimage.feature import hog, local_binary_pattern\n",
    "from sklearn.svm import LinearSVC\n",
    "from helpers import *\n",
    "from sklearn.metrics import classification_report, confusion_matrix\n",
    "from skimage.feature import greycomatrix, greycoprops\n",
    "from sklearn.ensemble import GradientBoostingClassifier\n"
   ]
  },
  {
   "cell_type": "markdown",
   "id": "c0030769",
   "metadata": {},
   "source": [
    "### Reading handwritten images from file and store it with it's lable \n",
    "for male y =0 and for female y =1"
   ]
  },
  {
   "cell_type": "code",
   "execution_count": 2,
   "id": "9a3bf41a",
   "metadata": {},
   "outputs": [
    {
     "name": "stdout",
     "output_type": "stream",
     "text": [
      "0start ..\n",
      "1start ..\n"
     ]
    },
    {
     "name": "stderr",
     "output_type": "stream",
     "text": [
      "c:\\Users\\Donia\\OneDrive\\Desktop\\projectMerged\\gender-classification\\helpers.py:32: VisibleDeprecationWarning: Creating an ndarray from ragged nested sequences (which is a list-or-tuple of lists-or-tuples-or ndarrays with different lengths or shapes) is deprecated. If you meant to do this, you must specify 'dtype=object' when creating the ndarray\n",
      "  return np.array(data)\n"
     ]
    }
   ],
   "source": [
    "data = read_data(\"data_set\")\n"
   ]
  },
  {
   "cell_type": "markdown",
   "id": "319c57e9",
   "metadata": {},
   "source": [
    "### spliting the data with randomness and visualizing the data "
   ]
  },
  {
   "cell_type": "code",
   "execution_count": 3,
   "id": "bef9af91",
   "metadata": {},
   "outputs": [],
   "source": [
    "data_train, data_test, y_train, y_test = train_test_split(\n",
    "    data[:, 0], data[:, 1], test_size=0.2, random_state=42)\n"
   ]
  },
  {
   "cell_type": "markdown",
   "id": "503391ac-1e40-4c54-81f4-b07f80cf73be",
   "metadata": {},
   "source": [
    "### Statistics on data"
   ]
  },
  {
   "cell_type": "code",
   "execution_count": 4,
   "id": "42494fb7",
   "metadata": {},
   "outputs": [
    {
     "name": "stdout",
     "output_type": "stream",
     "text": [
      "105\n",
      "237\n",
      "(3393, 2392)\n",
      "(3128, 2144)\n"
     ]
    }
   ],
   "source": [
    "print(f\"Females in the training dataset is: %d\" %(sum(y_train)))\n",
    "print(f\"Total samples in the training dataset is: %d\"%(len(y_train)))\n",
    "print(f\"Single image dimension is: (%d, %d)\" %(data_train[0].shape))"
   ]
  },
  {
   "cell_type": "code",
   "execution_count": null,
   "id": "735359f5",
   "metadata": {},
   "outputs": [
    {
     "name": "stderr",
     "output_type": "stream",
     "text": [
      "c:\\Users\\Donia\\anaconda3\\lib\\site-packages\\seaborn\\_decorators.py:36: FutureWarning: Pass the following variable as a keyword arg: x. From version 0.12, the only valid positional argument will be `data`, and passing other arguments without an explicit keyword will result in an error or misinterpretation.\n",
      "  warnings.warn(\n"
     ]
    },
    {
     "data": {
      "text/plain": [
       "<AxesSubplot:ylabel='count'>"
      ]
     },
     "execution_count": 19,
     "metadata": {},
     "output_type": "execute_result"
    },
    {
     "data": {
      "image/png": "[encoded data removed]",
      "text/plain": [
       "<Figure size 432x288 with 1 Axes>"
      ]
     },
     "metadata": {},
     "output_type": "display_data"
    }
   ],
   "source": [
    "lables = []\n",
    "for i in y_train:\n",
    "    if(i == 0):\n",
    "        lables.append(\"Males\")\n",
    "    else:\n",
    "        lables.append(\"Females\")\n",
    "sns.set_style('darkgrid')\n",
    "sns.countplot(lables)\n"
   ]
  },
  {
   "cell_type": "markdown",
   "id": "49178186",
   "metadata": {},
   "source": [
    "### Resize images to be 128*64 for HOG feature extraction"
   ]
  },
  {
   "cell_type": "code",
   "execution_count": 4,
   "id": "c91b8396",
   "metadata": {},
   "outputs": [],
   "source": [
    "data_train_resized = resized_images(data=data_train, width= 64, height= 128)\n",
    "data_test_resized = resized_images(data=data_test, width= 64, height= 128)"
   ]
  },
  {
   "cell_type": "markdown",
   "id": "7ccbe52d",
   "metadata": {},
   "source": [
    "### Extract HOG Features"
   ]
  },
  {
   "cell_type": "code",
   "execution_count": 5,
   "id": "7a826d2f",
   "metadata": {},
   "outputs": [],
   "source": [
    "def apply_hog(data):\n",
    "    featureVecs = []\n",
    "    outputImgs = []\n",
    "    for img in data:\n",
    "        featureVecHog, hog_image = hog(img, orientations=9, pixels_per_cell=(16, 16),\n",
    "                                       cells_per_block=(3, 3), visualize=True, multichannel=False)\n",
    "        featureVecs.append(featureVecHog)\n",
    "        outputImgs.append(hog_image)\n",
    "    return featureVecs, outputImgs\n"
   ]
  },
  {
   "cell_type": "code",
   "execution_count": 6,
   "id": "a7ab3ccf",
   "metadata": {},
   "outputs": [],
   "source": [
    "training_HOG, traning_imgs = apply_hog(data_train_resized)\n"
   ]
  },
  {
   "cell_type": "code",
   "execution_count": 7,
   "id": "d48fc2c1",
   "metadata": {},
   "outputs": [],
   "source": [
    "testing_HOG, testing_imgs = apply_hog(data_test_resized)"
   ]
  },
  {
   "cell_type": "markdown",
   "id": "d96539bb",
   "metadata": {},
   "source": [
    "### LBP feature extraction using original images"
   ]
  },
  {
   "cell_type": "code",
   "execution_count": 8,
   "id": "42e4eaf3",
   "metadata": {},
   "outputs": [],
   "source": [
    "def describe(numPoints, radius, image):\n",
    "    # compute the Local Binary Pattern representation\n",
    "    # of the image, and then use the LBP representation\n",
    "    # to build the histogram of patterns\n",
    "    lbp = local_binary_pattern(image, numPoints,\n",
    "                               radius, method=\"uniform\")        \n",
    "    return lbp.flatten()"
   ]
  },
  {
   "cell_type": "code",
   "execution_count": 9,
   "id": "e35c9f46",
   "metadata": {},
   "outputs": [],
   "source": [
    "def apply_LBP(data, numPoints, Radius):\n",
    "    featureVecs = []\n",
    "    for img in data:\n",
    "        res= describe(numPoints, Radius, img)\n",
    "        featureVecs.append(res)\n",
    "    return featureVecs"
   ]
  },
  {
   "cell_type": "code",
   "execution_count": 10,
   "id": "9b442689",
   "metadata": {},
   "outputs": [],
   "source": [
    "training_LBP = apply_LBP(data_train, 24, 3)\n",
    "testing_LBP = apply_LBP(data_test, 24, 3)\n"
   ]
  },
  {
   "cell_type": "markdown",
   "id": "b4822cf6",
   "metadata": {},
   "source": [
    "### Applying GLCM Feature Extraction"
   ]
  },
  {
   "cell_type": "code",
   "execution_count": null,
   "id": "dae7237b",
   "metadata": {},
   "outputs": [],
   "source": [
    "def apply_glcm(images, props, dists=[5], agls=[0, np.pi/4, np.pi/2, 3*np.pi/4], lvl=256, sym=True, norm=True):\n",
    "    features=[]\n",
    "    for img in images:\n",
    "        glcm = greycomatrix(img, \n",
    "                            distances=dists, \n",
    "                            angles=agls, \n",
    "                            levels=lvl,\n",
    "                            symmetric=sym, \n",
    "                            normed=norm)\n",
    "        feature = []\n",
    "        glcm_props = [propery for name in props for propery in greycoprops(glcm, name)[0]]\n",
    "        for item in glcm_props:\n",
    "                feature.append(item)\n",
    "        features.append(feature)\n",
    "    \n",
    "    return features"
   ]
  },
  {
   "cell_type": "code",
   "execution_count": null,
   "id": "b413566b",
   "metadata": {},
   "outputs": [],
   "source": [
    "properties = ['dissimilarity', 'correlation', 'homogeneity', 'contrast', 'ASM', 'energy']\n",
    "\n",
    "training_GLCM = apply_glcm(data_train,properties)\n",
    "testing_GLCM = apply_glcm(data_test,properties)"
   ]
  },
  {
   "cell_type": "code",
   "execution_count": null,
   "id": "ae0952da",
   "metadata": {},
   "outputs": [],
   "source": [
    "all_training_feats = np.zeros((data_train.shape[0],training_HOG[0].shape[0]+training_LBP[0].shape[0] ))\n",
    "all_testing_feats = np.zeros((data_test.shape[0], testing_HOG[0].shape[0]+testing_LBP[0].shape[0]))"
   ]
  },
  {
   "cell_type": "code",
   "execution_count": null,
   "id": "a1be732c",
   "metadata": {},
   "outputs": [],
   "source": [
    "all_training_feats[:,0:training_HOG[0].shape[0]]= training_HOG\n",
    "all_training_feats[:,training_HOG[0].shape[0]:(training_HOG[0].shape[0]+training_LBP[0].shape[0])]= training_LBP\n",
    "all_testing_feats[:,0:testing_HOG[0].shape[0]]= testing_HOG\n",
    "all_testing_feats[:,testing_HOG[0].shape[0]:(testing_HOG[0].shape[0]+testing_LBP[0].shape[0])]= testing_LBP"
   ]
  },
  {
   "cell_type": "code",
   "execution_count": null,
   "id": "e2b6b911",
   "metadata": {},
   "outputs": [
    {
     "name": "stdout",
     "output_type": "stream",
     "text": [
      "290\n",
      "(632772,)\n",
      "290\n",
      "(10,)\n",
      "(290, 632782)\n"
     ]
    }
   ],
   "source": [
    "print(len(training_HOG))\n",
    "print(training_HOG[0].shape)\n",
    "print(len(training_LBP))\n",
    "\n",
    "print(training_LBP[0].shape)\n",
    "print(all_training_feats.shape)"
   ]
  },
  {
   "cell_type": "markdown",
   "id": "777ca6d3",
   "metadata": {},
   "source": [
    "## Training The Classifiers"
   ]
  },
  {
   "cell_type": "code",
   "execution_count": 11,
   "id": "9d08d30a",
   "metadata": {},
   "outputs": [],
   "source": [
    "def train_svm(data, y_train, C):\n",
    "    # train a Linear SVM on the data\n",
    "    model = LinearSVC(C=C, random_state=42)\n",
    "    y_train =y_train.astype('int')\n",
    "    model.fit(data, y_train)\n",
    "    return model\n"
   ]
  },
  {
   "cell_type": "code",
   "execution_count": 12,
   "id": "2a3d28e1",
   "metadata": {},
   "outputs": [],
   "source": [
    "def train_boosting(data, y_train):\n",
    "    classifier = GradientBoostingClassifier(n_estimators=100, learning_rate=1.0,max_depth=1, random_state=0)\n",
    "    classifier.fit(data, y_train)\n",
    "    return classifier"
   ]
  },
  {
   "cell_type": "markdown",
   "id": "e45d853c-475b-48e9-a367-8bbfcbacc47e",
   "metadata": {},
   "source": [
    "### Training SVM on all Features"
   ]
  },
  {
   "cell_type": "code",
   "execution_count": null,
   "id": "a90fb3a0",
   "metadata": {},
   "outputs": [
    {
     "name": "stdout",
     "output_type": "stream",
     "text": [
      "Training accuracy is 100.00\n",
      "Testing accuracy is 69.86\n"
     ]
    }
   ],
   "source": [
    "svm_m_all = train_svm(data=all_training_feats, y_train=y_train)\n",
    "train_predicted_all = svm_m_all.predict(all_training_feats)\n",
    "print(f\"Training accuracy is %0.2f\"%(np.sum(train_predicted_all == y_train)/len(y_train) * 100))\n",
    "test_predicted_all = svm_m_all.predict(all_testing_feats)\n",
    "print(f\"Testing accuracy is %0.2f\"%(np.sum(test_predicted_all == y_test)/len(y_test) * 100))"
   ]
  },
  {
   "cell_type": "markdown",
   "id": "751ed229-0851-492d-8a47-fd6beaf7be13",
   "metadata": {},
   "source": [
    "## Training SVM on HOG feature only"
   ]
  },
  {
   "cell_type": "code",
   "execution_count": null,
   "id": "9b5c4775",
   "metadata": {},
   "outputs": [
    {
     "name": "stdout",
     "output_type": "stream",
     "text": [
      "Training accuracy is 100.00\n",
      "Testing accuracy is 76.67\n"
     ]
    },
    {
     "name": "stderr",
     "output_type": "stream",
     "text": [
      "c:\\Users\\Donia\\anaconda3\\lib\\site-packages\\sklearn\\svm\\_base.py:976: ConvergenceWarning: Liblinear failed to converge, increase the number of iterations.\n",
      "  warnings.warn(\"Liblinear failed to converge, increase \"\n"
     ]
    }
   ],
   "source": [
    "svm_m_HOG = train_svm(data=training_HOG, y_train=y_train,  C=100)\n",
    "train_predicted_HOG = svm_m_HOG.predict(training_HOG)\n",
    "print(f\"Training accuracy is %0.2f\"%(np.sum(train_predicted_HOG == y_train)/len(y_train) * 100))\n",
    "test_predicted_HOG = svm_m_HOG.predict(testing_HOG)\n",
    "print(f\"Testing accuracy is %0.2f\"%(np.sum(test_predicted_HOG == y_test)/len(y_test) * 100))\n"
   ]
  },
  {
   "cell_type": "markdown",
   "id": "32711ec5-b94e-4c54-b587-22e7fa24417d",
   "metadata": {},
   "source": [
    "## Training GBC on HOG feature only"
   ]
  },
  {
   "cell_type": "code",
   "execution_count": 13,
   "id": "7b627f0d",
   "metadata": {},
   "outputs": [
    {
     "name": "stdout",
     "output_type": "stream",
     "text": [
      "Training accuracy is 100.00\n",
      "Testing accuracy is 83.33\n"
     ]
    }
   ],
   "source": [
    "boosting_m_HOG = train_boosting(data=(training_HOG), y_train=np.array((y_train), dtype=np.uint8))\n",
    "train_predicted_HOG = boosting_m_HOG.predict(training_HOG)\n",
    "print(f\"Training accuracy is %0.2f\"%(np.sum(train_predicted_HOG == y_train)/len(y_train) * 100))\n",
    "test_predicted_HOG = boosting_m_HOG.predict(testing_HOG)\n",
    "print(f\"Testing accuracy is %0.2f\"%(np.sum(test_predicted_HOG == y_test)/len(y_test) * 100))\n"
   ]
  },
  {
   "cell_type": "markdown",
   "id": "e849ae53-24a8-4439-bfb4-2e1fc25857e0",
   "metadata": {},
   "source": [
    "## Training SVM on LBP feature only"
   ]
  },
  {
   "cell_type": "code",
   "execution_count": null,
   "id": "ebb94e60",
   "metadata": {},
   "outputs": [],
   "source": [
    "svm_m_LBP = train_svm(data=training_LBP, y_train=y_train, C=100)\n",
    "train_predicted_LBP = svm_m_LBP.predict(training_LBP)\n",
    "print(f\"Training accuracy is %0.2f\"%(np.sum(train_predicted_LBP == y_train)/len(y_train) * 100))\n",
    "test_predicted_LBP = svm_m_LBP.predict(testing_LBP)\n",
    "print(f\"Testing accuracy is %0.2f\"%(np.sum(test_predicted_LBP == y_test)/len(y_test) * 100))\n"
   ]
  },
  {
   "cell_type": "markdown",
   "id": "6c953176-41be-4f02-a080-84dda83087e0",
   "metadata": {},
   "source": [
    "## Training SVM on GLCM feature only"
   ]
  },
  {
   "cell_type": "code",
   "execution_count": null,
   "id": "4257b9ac",
   "metadata": {},
   "outputs": [
    {
     "name": "stdout",
     "output_type": "stream",
     "text": [
      "Training accuracy is 63.45\n",
      "Testing accuracy is 65.75\n"
     ]
    },
    {
     "name": "stderr",
     "output_type": "stream",
     "text": [
      "c:\\Users\\Donia\\anaconda3\\lib\\site-packages\\sklearn\\svm\\_base.py:976: ConvergenceWarning: Liblinear failed to converge, increase the number of iterations.\n",
      "  warnings.warn(\"Liblinear failed to converge, increase \"\n"
     ]
    }
   ],
   "source": [
    "svm_m_GLCM = train_svm(data=training_GLCM, y_train=y_train, C=100)\n",
    "train_predicted_GLCM = svm_m_GLCM.predict(training_GLCM)\n",
    "print(f\"Training accuracy is %0.2f\"%(np.sum(train_predicted_GLCM == y_train)/len(y_train) * 100))\n",
    "test_predicted_GLCM = svm_m_GLCM.predict(testing_GLCM)\n",
    "print(f\"Testing accuracy is %0.2f\"%(np.sum(test_predicted_GLCM == y_test)/len(y_test) * 100))"
   ]
  },
  {
   "cell_type": "code",
   "execution_count": null,
   "id": "5b70576d",
   "metadata": {},
   "outputs": [
    {
     "name": "stdout",
     "output_type": "stream",
     "text": [
      "Fitting 5 folds for each of 24 candidates, totalling 120 fits\n"
     ]
    },
    {
     "name": "stderr",
     "output_type": "stream",
     "text": [
      "[Parallel(n_jobs=1)]: Using backend SequentialBackend with 1 concurrent workers.\n",
      "[Parallel(n_jobs=1)]: Done 120 out of 120 | elapsed:    0.5s finished\n"
     ]
    },
    {
     "data": {
      "text/plain": [
       "{'C': 0.1, 'gamma': 1}"
      ]
     },
     "execution_count": 16,
     "metadata": {},
     "output_type": "execute_result"
    }
   ],
   "source": [
    "GridSearch_tuning(np.array((training_LBP), dtype=np.uint8), np.array(y_train, dtype=np.uint8))"
   ]
  },
  {
   "cell_type": "code",
   "execution_count": null,
   "id": "85fb46f5",
   "metadata": {},
   "outputs": [
    {
     "name": "stdout",
     "output_type": "stream",
     "text": [
      "Confusion Matrix\n",
      "array([[100.00, 0.00],\n",
      "       [100.00, 0.00]])\n"
     ]
    }
   ],
   "source": [
    "print('Confusion Matrix')\n",
    "cf = confusion_matrix(np.array((y_test), dtype=np.uint8), np.array(test_predicted_LBP, dtype=np.uint8))\n",
    "cf_sum = cf.sum(axis = 1)[:, np.newaxis]\n",
    "cf = np.round(cf / cf_sum * 100, 2)\n",
    "float_formatter = \"{:.2f}\".format\n",
    "np.set_printoptions(formatter={'float_kind':float_formatter})\n",
    "print(repr(cf))"
   ]
  },
  {
   "cell_type": "code",
   "execution_count": null,
   "id": "61b57206",
   "metadata": {},
   "outputs": [],
   "source": []
  },
  {
   "cell_type": "code",
   "execution_count": null,
   "id": "dcbe2b7e",
   "metadata": {},
   "outputs": [],
   "source": [
    "\n",
    "\n",
    "\n"
   ]
  },
  {
   "cell_type": "code",
   "execution_count": null,
   "id": "000f0f41",
   "metadata": {},
   "outputs": [],
   "source": []
  }
 ],
 "metadata": {
  "interpreter": {
   "hash": "0b0ef5f0ed5a8304c794243ac59cd3d89c3bef0367378030b53f572ec4c615a1"
  },
  "kernelspec": {
   "display_name": "Python 3 (ipykernel)",
   "language": "python",
   "name": "python3"
  },
  "language_info": {
   "codemirror_mode": {
    "name": "ipython",
    "version": 3
   },
   "file_extension": ".py",
   "mimetype": "text/x-python",
   "name": "python",
   "nbconvert_exporter": "python",
   "pygments_lexer": "ipython3",
   "version": "3.10.4"
  }
 },
 "nbformat": 4,
 "nbformat_minor": 5
}
