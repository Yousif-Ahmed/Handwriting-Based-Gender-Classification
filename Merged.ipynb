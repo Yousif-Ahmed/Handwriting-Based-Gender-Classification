{
 "cells": [
  {
   "cell_type": "markdown",
   "id": "0593ffb4-25ce-4632-bb4c-c9e42eda455b",
   "metadata": {},
   "source": [
    "## Imports"
   ]
  },
  {
   "cell_type": "code",
   "execution_count": 1,
   "id": "4feb9073-5f46-4f10-b80c-538e2259e064",
   "metadata": {},
   "outputs": [],
   "source": [
    "from helpers import *\n",
    "\n",
    "# Models\n",
    "from sklearn.svm import SVC, LinearSVC\n",
    "from sklearn.linear_model import LogisticRegression\n",
    "from sklearn.ensemble import VotingClassifier, GradientBoostingClassifier\n",
    "from sklearn.model_selection import train_test_split\n",
    "\n",
    "# Scalers\n",
    "from sklearn.preprocessing import MinMaxScaler"
   ]
  },
  {
   "cell_type": "markdown",
   "id": "79b46d49",
   "metadata": {},
   "source": [
    "# Reading Data"
   ]
  },
  {
   "cell_type": "code",
   "execution_count": 2,
   "id": "38153c30-fda6-409d-b535-c0d314c29bd7",
   "metadata": {},
   "outputs": [],
   "source": [
    "# feature extraction parameters\n",
    "opt = {\n",
    "        'sharpness_factor': 10,\n",
    "        'bordersize': 3,\n",
    "        'show_images': False,\n",
    "        'is_binary': False,\n",
    "        'LBP_numPoints': 8,\n",
    "        'LBP_radius':1,\n",
    "        'LBP_method': 'uniform',\n",
    "        'HOG_width': 64,\n",
    "        'HOG_height': 128,\n",
    "    }"
   ]
  },
  {
   "cell_type": "code",
   "execution_count": null,
   "id": "b075d125-431a-46c4-b332-41eb36631cb6",
   "metadata": {},
   "outputs": [
    {
     "name": "stdout",
     "output_type": "stream",
     "text": [
      "0start ..\n"
     ]
    }
   ],
   "source": [
    "X, Y = read_data(\"data_set\", windows=False)"
   ]
  },
  {
   "cell_type": "code",
   "execution_count": null,
   "id": "d7cc2136-c765-49b5-b7e1-6f2ff275e100",
   "metadata": {},
   "outputs": [],
   "source": [
    "data_train, data_test, y_train, y_test = train_test_split(X, Y, test_size=0.2, random_state=42)"
   ]
  },
  {
   "cell_type": "markdown",
   "id": "d147d949",
   "metadata": {},
   "source": [
    "## Feature Extraction"
   ]
  },
  {
   "cell_type": "code",
   "execution_count": null,
   "id": "940a788d-c24d-4326-b5c0-f89773177d48",
   "metadata": {},
   "outputs": [],
   "source": [
    "HOG_feature_training, HINGE_feature_training, COLD_feature_training = extract_features(imgs=data_train, options=opt)"
   ]
  },
  {
   "cell_type": "code",
   "execution_count": null,
   "id": "c2652d5e-6785-4bb6-8efa-dd606864c156",
   "metadata": {},
   "outputs": [],
   "source": [
    "HOG_feature_testing, HINGE_feature_testing, COLD_feature_testing = extract_features(imgs=data_test, options=opt)"
   ]
  },
  {
   "cell_type": "markdown",
   "id": "82636a20-1fa1-4a26-bf79-9e403f069019",
   "metadata": {},
   "source": [
    "## Scaling Features"
   ]
  },
  {
   "cell_type": "code",
   "execution_count": null,
   "id": "cc1c6963-28d4-4d1a-b481-bc01d5a1adbd",
   "metadata": {},
   "outputs": [],
   "source": [
    "HOG_scaler = MinMaxScaler()\n",
    "HOG_feature_training_scaled  = HOG_scaler.fit_transform(HOG_feature_training)\n",
    "HOG_feature_testing_sclaed = HOG_scaler.transform(HOG_feature_testing)\n",
    "\n",
    "HINGE_scaler = MinMaxScaler()\n",
    "HINGE_feature_training_scaled = HINGE_scaler.fit_transform(HINGE_feature_training)\n",
    "HINGE_feature_testing_scaled = HINGE_scaler.transform(HINGE_feature_testing)\n",
    "\n",
    "COLD_scaler = MinMaxScaler()\n",
    "COLD_feature_training_scaled = COLD_scaler.fit_transform(COLD_feature_training)\n",
    "COLD_feature_testing_scaled = COLD_scaler.transform(COLD_feature_testing)"
   ]
  },
  {
   "cell_type": "markdown",
   "id": "49aa9c37",
   "metadata": {},
   "source": [
    "### Export Scaled features"
   ]
  },
  {
   "cell_type": "code",
   "execution_count": null,
   "id": "0131b2fa-f87a-4af1-8adc-fdb7c265152f",
   "metadata": {},
   "outputs": [],
   "source": [
    "all_train_features = np.concatenate((HOG_feature_training_scaled, HINGE_feature_training_scaled), axis=1)\n",
    "all_train_features = np.concatenate((all_train_features, COLD_feature_training_scaled), axis=1)\n",
    "\n",
    "all_test_features = np.concatenate((HOG_feature_testing_sclaed, HINGE_feature_testing_scaled), axis=1)\n",
    "all_test_features = np.concatenate((all_test_features, COLD_feature_testing_scaled), axis=1)"
   ]
  },
  {
   "cell_type": "code",
   "execution_count": null,
   "id": "61017c40-9123-49c9-aca7-9a6c6c6ab6e9",
   "metadata": {},
   "outputs": [],
   "source": [
    "import pandas as pd\n",
    "pd.DataFrame(all_train_features).to_csv(\"train.csv\", header=None, index=None)\n",
    "pd.DataFrame(all_test_features).to_csv('test.csv', header=None, index=None)\n",
    "pd.DataFrame(y_test).to_csv('test_classes.csv', header=None, index=None)\n",
    "pd.DataFrame(y_train).to_csv('train_classes.csv', header=None, index=None)"
   ]
  },
  {
   "cell_type": "markdown",
   "id": "7a5c4145",
   "metadata": {},
   "source": [
    "## Training Model"
   ]
  },
  {
   "cell_type": "code",
   "execution_count": null,
   "id": "c4367a55-e1aa-4a43-8bba-683d133fca43",
   "metadata": {},
   "outputs": [],
   "source": [
    "clf2 =  LogisticRegression(random_state=42, max_iter=5000)\n",
    "\n",
    "parameters2 = {\n",
    "    'C': [1,10,100]\n",
    "}\n",
    "\n",
    "grid_clf2 = GridSearchCV(clf2, parameters2, scoring='f1')\n",
    "grid_clf2.fit(all_train_features, y_train)\n",
    "model = grid_clf2.best_estimator_"
   ]
  },
  {
   "cell_type": "markdown",
   "id": "3d1ca6b7",
   "metadata": {},
   "source": [
    "### Model Evaluation"
   ]
  },
  {
   "cell_type": "code",
   "execution_count": null,
   "id": "5fa18ba8",
   "metadata": {
    "tags": []
   },
   "outputs": [],
   "source": [
    "from sklearn.metrics import ConfusionMatrixDisplay\n",
    "\n",
    "ax= plt.subplot()\n",
    "ConfusionMatrixDisplay.from_estimator(model, all_train_features, y_train, display_labels=['Male', 'Female'], ax=ax)\n",
    "\n",
    "ax.set_title('Training Confusion Matrix')\n",
    "\n",
    "ax= plt.subplot()\n",
    "ConfusionMatrixDisplay.from_estimator(model, all_test_features, y_test, display_labels=['Male', 'Female'], ax=ax)\n",
    "\n",
    "ax.set_title('Testing Confusion Matrix');"
   ]
  },
  {
   "cell_type": "code",
   "execution_count": null,
   "id": "83677f7a-210c-4692-bc4b-86c081d42a8f",
   "metadata": {},
   "outputs": [],
   "source": [
    "print(f\"Training score is %0.2f\"%(model.score(all_train_features, y_train) * 100))\n",
    "\n",
    "\n",
    "test_pred = model.predict(all_test_features)\n",
    "print(f\"Testing accuracy is %0.2f\"%(np.sum(test_pred == y_test)/len(y_test) * 100))"
   ]
  },
  {
   "cell_type": "markdown",
   "id": "860d40d1",
   "metadata": {},
   "source": [
    "### Exporting Models to .sav files\n"
   ]
  },
  {
   "cell_type": "code",
   "execution_count": null,
   "id": "f0f27503-a007-49cb-9287-f5bf1221d1aa",
   "metadata": {},
   "outputs": [],
   "source": [
    "import pickle\n",
    "\n",
    "\n",
    "\n",
    "modelname='best_svc_model_ever.sav'\n",
    "pickle.dump(model, open(modelname, 'wb'))\n",
    "\n",
    "HOG_scalername = 'HOG_scaler.sav'\n",
    "HINGE_scalername = 'HINGE_scaler.sav'\n",
    "COLD_scalername = 'COLD_scaler.sav'\n",
    "\n",
    "pickle.dump(HOG_scaler, open(HOG_scalername, 'wb'))\n",
    "pickle.dump(HINGE_scaler, open(HINGE_scalername, 'wb'))\n",
    "pickle.dump(COLD_scaler, open(COLD_scalername, 'wb'))"
   ]
  },
  {
   "cell_type": "code",
   "execution_count": null,
   "id": "cb07e960",
   "metadata": {},
   "outputs": [],
   "source": []
  }
 ],
 "metadata": {
  "kernelspec": {
   "display_name": "Python 3 (ipykernel)",
   "language": "python",
   "name": "python3"
  },
  "language_info": {
   "codemirror_mode": {
    "name": "ipython",
    "version": 3
   },
   "file_extension": ".py",
   "mimetype": "text/x-python",
   "name": "python",
   "nbconvert_exporter": "python",
   "pygments_lexer": "ipython3",
   "version": "3.10.4"
  }
 },
 "nbformat": 4,
 "nbformat_minor": 5
}
