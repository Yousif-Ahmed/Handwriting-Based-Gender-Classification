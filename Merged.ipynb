{
 "cells": [
  {
   "cell_type": "markdown",
   "id": "0593ffb4-25ce-4632-bb4c-c9e42eda455b",
   "metadata": {},
   "source": [
    "## Imports"
   ]
  },
  {
   "cell_type": "code",
   "execution_count": 8,
   "id": "4feb9073-5f46-4f10-b80c-538e2259e064",
   "metadata": {},
   "outputs": [],
   "source": [
    "from helpers import *\n",
    "\n",
    "# Models\n",
    "from sklearn.svm import SVC, LinearSVC\n",
    "from sklearn.linear_model import LogisticRegression\n",
    "from sklearn.ensemble import VotingClassifier, GradientBoostingClassifier\n",
    "from sklearn.model_selection import train_test_split\n",
    "\n",
    "# Scalers\n",
    "from sklearn.preprocessing import MinMaxScaler"
   ]
  },
  {
   "cell_type": "code",
   "execution_count": 2,
   "id": "38153c30-fda6-409d-b535-c0d314c29bd7",
   "metadata": {},
   "outputs": [],
   "source": [
    "# feature extraction parameters\n",
    "opt = {\n",
    "        'input_folder': r\"<IMAGES FOLDER IMAGES ARE STORED>\",\n",
    "        'output_folder': r\"<FOLDER WHERE FEATURES ARE STORED\",\n",
    "        'sharpness_factor': 10,\n",
    "        'bordersize': 3,\n",
    "        'show_images': False,\n",
    "        'is_binary': False,\n",
    "        'LBP_numPoints': 8,\n",
    "        'LBP_radius':1,\n",
    "        'LBP_method': 'uniform',\n",
    "        'HOG_width': 64,\n",
    "        'HOG_height': 128,\n",
    "    }"
   ]
  },
  {
   "cell_type": "code",
   "execution_count": 3,
   "id": "b075d125-431a-46c4-b332-41eb36631cb6",
   "metadata": {},
   "outputs": [
    {
     "name": "stdout",
     "output_type": "stream",
     "text": [
      "0start ..\n",
      "1start ..\n"
     ]
    }
   ],
   "source": [
    "X, Y = read_data(\"data_set\", windows=False)"
   ]
  },
  {
   "cell_type": "code",
   "execution_count": 4,
   "id": "d7cc2136-c765-49b5-b7e1-6f2ff275e100",
   "metadata": {},
   "outputs": [],
   "source": [
    "data_train, data_test, y_train, y_test = train_test_split(X, Y, test_size=0.2, random_state=42)"
   ]
  },
  {
   "cell_type": "code",
   "execution_count": 5,
   "id": "940a788d-c24d-4326-b5c0-f89773177d48",
   "metadata": {},
   "outputs": [
    {
     "name": "stderr",
     "output_type": "stream",
     "text": [
      "/home/passantabdelgalil/Documents/gender-classification/cold_feature_extraction.py:117: RuntimeWarning: divide by zero encountered in log10\n",
      "  rhos_log_space = np.log10(rhos)\n"
     ]
    }
   ],
   "source": [
    "HOG_feature_training, HINGE_feature_training, COLD_feature_training = extract_features(imgs=data_train, options=opt)"
   ]
  },
  {
   "cell_type": "code",
   "execution_count": 6,
   "id": "c2652d5e-6785-4bb6-8efa-dd606864c156",
   "metadata": {},
   "outputs": [
    {
     "name": "stderr",
     "output_type": "stream",
     "text": [
      "/home/passantabdelgalil/Documents/gender-classification/cold_feature_extraction.py:117: RuntimeWarning: divide by zero encountered in log10\n",
      "  rhos_log_space = np.log10(rhos)\n"
     ]
    }
   ],
   "source": [
    "HOG_feature_testing, HINGE_feature_testing, COLD_feature_testing = extract_features(imgs=data_test, options=opt)"
   ]
  },
  {
   "cell_type": "markdown",
   "id": "82636a20-1fa1-4a26-bf79-9e403f069019",
   "metadata": {},
   "source": [
    "## Scaling Features"
   ]
  },
  {
   "cell_type": "code",
   "execution_count": null,
   "id": "21976872-8709-4ea7-9ed1-a51820f4b2d1",
   "metadata": {},
   "outputs": [],
   "source": [
    "scaler = MinMaxScaler()\n",
    "training_features = scaler.fit_transform(training_HOG)\n",
    "testing_features = scaler.transform(testing_HOG)"
   ]
  },
  {
   "cell_type": "markdown",
   "id": "22010f2a-e55a-43c1-8f7b-c9a4a37e157c",
   "metadata": {},
   "source": [
    "## SVM"
   ]
  },
  {
   "cell_type": "markdown",
   "id": "a7a403e7-8ada-4ebd-be21-98df38f557ef",
   "metadata": {},
   "source": [
    "### HOG"
   ]
  },
  {
   "cell_type": "code",
   "execution_count": 10,
   "id": "0d3ce73c-69f0-4421-8a2a-5eed9e00d1d6",
   "metadata": {},
   "outputs": [
    {
     "name": "stdout",
     "output_type": "stream",
     "text": [
      "Testing accuracy is 73.97\n"
     ]
    }
   ],
   "source": [
    "svm_hog = LinearSVC(C=100, random_state=42, max_iter=2000)\n",
    "svm_hog = svm_hog.fit(HOG_feature_training, y_train)\n",
    "test_pred_hog_svm = svm_hog.predict(HOG_feature_testing)\n",
    "print(f\"Testing accuracy is %0.2f\"%(np.sum(test_pred_hog_svm == y_test)/len(y_test) * 100))"
   ]
  },
  {
   "cell_type": "markdown",
   "id": "96961b31-f275-4e9d-84cb-d116042605fd",
   "metadata": {},
   "source": [
    "### HINGE"
   ]
  },
  {
   "cell_type": "code",
   "execution_count": 22,
   "id": "f1d0f70a-b83d-4e1d-8904-4b0b67e4d29e",
   "metadata": {},
   "outputs": [
    {
     "name": "stdout",
     "output_type": "stream",
     "text": [
      "Testing accuracy is 69.86\n"
     ]
    }
   ],
   "source": [
    "svm_hinge = LinearSVC(C=100, random_state=42, max_iter=5000)\n",
    "svm_hinge = svm_hinge.fit(HINGE_feature_training, y_train)\n",
    "test_pred_hinge_svm = svm_hinge.predict(HINGE_feature_testing)\n",
    "print(f\"Testing accuracy is %0.2f\"%(np.sum(test_pred_cold_svm == y_test)/len(y_test) * 100))"
   ]
  },
  {
   "cell_type": "markdown",
   "id": "69a393fc-8e50-483d-b9bc-16039b6fa5f6",
   "metadata": {},
   "source": [
    "### COLD"
   ]
  },
  {
   "cell_type": "code",
   "execution_count": 43,
   "id": "37ddd406-a242-41d0-bde2-f22942763e7f",
   "metadata": {},
   "outputs": [
    {
     "name": "stdout",
     "output_type": "stream",
     "text": [
      "Testing accuracy is 72.60\n"
     ]
    }
   ],
   "source": [
    "svm_cold = LinearSVC(C=80, random_state=42, max_iter=5000)\n",
    "svm_cold = svm_cold.fit(COLD_feature_training, y_train)\n",
    "test_pred_cold_svm = svm_cold.predict(COLD_feature_testing)\n",
    "print(f\"Testing accuracy is %0.2f\"%(np.sum(test_pred_cold_svm == y_test)/len(y_test) * 100))"
   ]
  },
  {
   "cell_type": "markdown",
   "id": "439a5c79-1398-42fb-96f8-cb54eba5db97",
   "metadata": {},
   "source": [
    "## Gradient Boosting Classifier"
   ]
  },
  {
   "cell_type": "markdown",
   "id": "b90782b8-fc27-455b-9342-cffc8673565c",
   "metadata": {},
   "source": [
    "### HOG"
   ]
  },
  {
   "cell_type": "code",
   "execution_count": 24,
   "id": "739b9324-a5e5-4348-90a3-f3bce8d288b6",
   "metadata": {},
   "outputs": [
    {
     "name": "stdout",
     "output_type": "stream",
     "text": [
      "Testing accuracy is 72.60\n"
     ]
    }
   ],
   "source": [
    "gradient_booster_hog = GradientBoostingClassifier(n_estimators=100, learning_rate=1.0,max_depth=1, random_state=0)\n",
    "gradient_booster_hog = gradient_booster_hog.fit(HOG_feature_training, y_train)\n",
    "test_pred_hog_gradient = gradient_booster_hog.predict(HOG_feature_testing)\n",
    "print(f\"Testing accuracy is %0.2f\"%(np.sum(test_pred_hog_gradient == y_test)/len(y_test) * 100))"
   ]
  },
  {
   "cell_type": "markdown",
   "id": "f90af61c-4ac5-414c-aac8-758c244a5434",
   "metadata": {},
   "source": [
    "### HINGE"
   ]
  },
  {
   "cell_type": "code",
   "execution_count": 25,
   "id": "8950727f-fcaa-44e0-8db3-6ddb458a0bd0",
   "metadata": {},
   "outputs": [
    {
     "name": "stdout",
     "output_type": "stream",
     "text": [
      "Testing accuracy is 82.19\n"
     ]
    }
   ],
   "source": [
    "gradient_booster_hinge = GradientBoostingClassifier(n_estimators=100, learning_rate=1.0,max_depth=1, random_state=0)\n",
    "gradient_booster_hinge = gradient_booster_hinge.fit(HINGE_feature_training, y_train)\n",
    "test_pred_hinge_gradient = gradient_booster_hinge.predict(HINGE_feature_testing)\n",
    "print(f\"Testing accuracy is %0.2f\"%(np.sum(test_pred_hinge_gradient == y_test)/len(y_test) * 100))"
   ]
  },
  {
   "cell_type": "markdown",
   "id": "0fcb9773-ee56-4cdb-b438-456e6ffc9b63",
   "metadata": {},
   "source": [
    "### COLD"
   ]
  },
  {
   "cell_type": "code",
   "execution_count": 26,
   "id": "1acdbc4a-df4b-4481-91e7-d72d061e15a6",
   "metadata": {},
   "outputs": [
    {
     "name": "stdout",
     "output_type": "stream",
     "text": [
      "Testing accuracy is 57.53\n"
     ]
    }
   ],
   "source": [
    "gradient_booster_cold = GradientBoostingClassifier(n_estimators=100, learning_rate=1.0,max_depth=1, random_state=0)\n",
    "gradient_booster_cold = gradient_booster_cold.fit(COLD_feature_training, y_train)\n",
    "test_pred_cold_gradient = gradient_booster_cold.predict(COLD_feature_testing)\n",
    "print(f\"Testing accuracy is %0.2f\"%(np.sum(test_pred_cold_gradient == y_test)/len(y_test) * 100))"
   ]
  },
  {
   "cell_type": "markdown",
   "id": "6707fd26-6a47-488f-a75e-f86315b6208f",
   "metadata": {
    "tags": []
   },
   "source": [
    "## LogisticRegression"
   ]
  },
  {
   "cell_type": "markdown",
   "id": "05891a8b-655a-4397-9197-820fe00e9253",
   "metadata": {},
   "source": [
    "### HOG"
   ]
  },
  {
   "cell_type": "code",
   "execution_count": 27,
   "id": "e098b060-a136-4f28-b767-da2a260f7b56",
   "metadata": {},
   "outputs": [
    {
     "name": "stdout",
     "output_type": "stream",
     "text": [
      "Testing accuracy is 75.34\n"
     ]
    }
   ],
   "source": [
    "lg_hog = LogisticRegression(random_state=42, max_iter=1000, C=10, class_weight=\"balanced\")\n",
    "lg_hog = lg_hog.fit(HOG_feature_training, y_train)\n",
    "test_pred_hog_lg = lg_hog.predict(HOG_feature_testing)\n",
    "print(f\"Testing accuracy is %0.2f\"%(np.sum(test_pred_hog_lg == y_test)/len(y_test) * 100))"
   ]
  },
  {
   "cell_type": "markdown",
   "id": "ba183fc0-d9f8-43db-8f60-55f0e73846fc",
   "metadata": {},
   "source": [
    "### HINGE"
   ]
  },
  {
   "cell_type": "code",
   "execution_count": 28,
   "id": "41f06d7b-528a-4814-930d-3d2c6c5bfc22",
   "metadata": {},
   "outputs": [
    {
     "name": "stdout",
     "output_type": "stream",
     "text": [
      "Testing accuracy is 63.01\n"
     ]
    }
   ],
   "source": [
    "lg_hinge = LogisticRegression(random_state=42, max_iter=1000, C=10, class_weight=\"balanced\")\n",
    "lg_hinge = lg_hinge.fit(HINGE_feature_training, y_train)\n",
    "test_pred_hinge_lg = lg_hinge.predict(HINGE_feature_testing)\n",
    "print(f\"Testing accuracy is %0.2f\"%(np.sum(test_pred_hinge_lg == y_test)/len(y_test) * 100))"
   ]
  },
  {
   "cell_type": "markdown",
   "id": "92659369-c405-4724-b382-0af9526c133b",
   "metadata": {},
   "source": [
    "### COLD"
   ]
  },
  {
   "cell_type": "code",
   "execution_count": 29,
   "id": "c8a77366-7dca-4baf-ba2f-94df473c8887",
   "metadata": {},
   "outputs": [
    {
     "name": "stdout",
     "output_type": "stream",
     "text": [
      "Testing accuracy is 63.01\n"
     ]
    }
   ],
   "source": [
    "lg_cold = LogisticRegression(random_state=42, max_iter=1000, C=10, class_weight=\"balanced\")\n",
    "lg_cold = lg_cold.fit(COLD_feature_training, y_train)\n",
    "test_pred_cold_lg = lg_cold.predict(COLD_feature_testing)\n",
    "print(f\"Testing accuracy is %0.2f\"%(np.sum(test_pred_cold_lg == y_test)/len(y_test) * 100))"
   ]
  },
  {
   "cell_type": "markdown",
   "id": "9b3a632c-d766-4d03-acf3-4d91fcd59977",
   "metadata": {},
   "source": [
    "# Voting Classifier\n",
    "\n",
    "- Logistic Regressor => HOG\n",
    "- Gradient Boosting Classifier => HINGE\n",
    "- SVM => COLD"
   ]
  },
  {
   "cell_type": "code",
   "execution_count": 55,
   "id": "ec2b04d2-340f-41dd-b5de-bace6cf42a7c",
   "metadata": {},
   "outputs": [],
   "source": [
    "final_train= np.concatenate((svm_cold.predict(COLD_feature_training).reshape(-1, 1), gradient_booster_hinge.predict(HINGE_feature_training).reshape(-1, 1)), axis=1)\n",
    "final_train = np.concatenate((final_train, lg_hog.predict(HOG_feature_training).reshape(-1, 1)), axis=1)\n",
    "\n",
    "final_test = np.concatenate((svm_cold.predict(COLD_feature_testing).reshape(-1, 1), gradient_booster_hinge.predict(HINGE_feature_testing).reshape(-1, 1)), axis=1)\n",
    "final_test = np.concatenate((final_test, lg_hog.predict(HOG_feature_testing).reshape(-1, 1)), axis=1)"
   ]
  },
  {
   "cell_type": "code",
   "execution_count": 60,
   "id": "d7b64c5f-56a5-4e87-a322-769c8001af56",
   "metadata": {},
   "outputs": [
    {
     "data": {
      "text/plain": [
       "array([[0, 0, 0],\n",
       "       [0, 0, 0],\n",
       "       [0, 0, 1],\n",
       "       [0, 0, 1],\n",
       "       [0, 0, 0],\n",
       "       [1, 1, 0],\n",
       "       [0, 0, 0],\n",
       "       [0, 0, 0],\n",
       "       [0, 1, 1],\n",
       "       [0, 0, 0],\n",
       "       [1, 1, 0],\n",
       "       [0, 0, 0],\n",
       "       [0, 0, 1],\n",
       "       [0, 0, 0],\n",
       "       [0, 0, 0]])"
      ]
     },
     "execution_count": 60,
     "metadata": {},
     "output_type": "execute_result"
    }
   ],
   "source": [
    "final_test[:15]"
   ]
  },
  {
   "cell_type": "code",
   "execution_count": 61,
   "id": "147486ec-8fed-4f23-8ff1-05a542a54245",
   "metadata": {},
   "outputs": [
    {
     "data": {
      "text/plain": [
       "array([0, 0, 0, 0, 0, 1, 0, 0, 1, 0, 1, 0, 0, 0, 0])"
      ]
     },
     "execution_count": 61,
     "metadata": {},
     "output_type": "execute_result"
    }
   ],
   "source": [
    "test_predicted[:15]"
   ]
  },
  {
   "cell_type": "code",
   "execution_count": 57,
   "id": "c443dadd-c446-4b13-8ab1-768c2930457a",
   "metadata": {},
   "outputs": [
    {
     "name": "stdout",
     "output_type": "stream",
     "text": [
      "Testing accuracy is 82.19\n"
     ]
    }
   ],
   "source": [
    "final_y = y_train\n",
    "clf = LogisticRegression(random_state=42, max_iter=1000, C=10, class_weight=\"balanced\")\n",
    "clf = clf.fit(final_train, final_y)\n",
    "test_predicted = clf.predict(final_test)\n",
    "print(f\"Testing accuracy is %0.2f\"%(np.sum(test_predicted == y_test)/len(y_test) * 100))"
   ]
  },
  {
   "cell_type": "markdown",
   "id": "d95c8439-5e10-4db7-96c1-a0cf8ba91eeb",
   "metadata": {},
   "source": [
    " "
   ]
  },
  {
   "cell_type": "code",
   "execution_count": 62,
   "id": "20103392-7a77-4118-9439-a5150082e5d4",
   "metadata": {},
   "outputs": [],
   "source": [
    "from sklearn.feature_selection import RFECV"
   ]
  },
  {
   "cell_type": "code",
   "execution_count": null,
   "id": "e6511ffe-c989-4262-948a-d7731a6c55eb",
   "metadata": {},
   "outputs": [],
   "source": [
    "rfecv = RFECV(\n",
    "    estimator=Lasso(),\n",
    "    cv=3,\n",
    "    scoring=\"r2\",\n",
    "    n_jobs=-1,\n",
    "    min_features_to_select=2,\n",
    ")\n",
    "refcv.fit(X_train, y_train)\n",
    "\n",
    "refcv.support_"
   ]
  },
  {
   "cell_type": "code",
   "execution_count": null,
   "id": "6701024d-8f5a-4424-9d4e-8b51491c59c1",
   "metadata": {},
   "outputs": [],
   "source": []
  },
  {
   "cell_type": "code",
   "execution_count": null,
   "id": "9b16dfdb-ded4-466f-be97-17baa4fa4ba9",
   "metadata": {},
   "outputs": [],
   "source": []
  },
  {
   "cell_type": "code",
   "execution_count": null,
   "id": "73100c34-247d-4620-8f2c-8f0178d90f5e",
   "metadata": {},
   "outputs": [],
   "source": []
  }
 ],
 "metadata": {
  "kernelspec": {
   "display_name": "Python 3 (ipykernel)",
   "language": "python",
   "name": "python3"
  },
  "language_info": {
   "codemirror_mode": {
    "name": "ipython",
    "version": 3
   },
   "file_extension": ".py",
   "mimetype": "text/x-python",
   "name": "python",
   "nbconvert_exporter": "python",
   "pygments_lexer": "ipython3",
   "version": "3.10.4"
  }
 },
 "nbformat": 4,
 "nbformat_minor": 5
}
