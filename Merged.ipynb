{
 "cells": [
  {
   "cell_type": "markdown",
   "id": "0593ffb4-25ce-4632-bb4c-c9e42eda455b",
   "metadata": {},
   "source": [
    "## Imports"
   ]
  },
  {
   "cell_type": "code",
   "execution_count": 1,
   "id": "4feb9073-5f46-4f10-b80c-538e2259e064",
   "metadata": {},
   "outputs": [],
   "source": [
    "from helpers import *\n",
    "\n",
    "# Models\n",
    "from sklearn.svm import SVC, LinearSVC\n",
    "from sklearn.linear_model import LogisticRegression\n",
    "from sklearn.ensemble import VotingClassifier, GradientBoostingClassifier\n",
    "from sklearn.model_selection import train_test_split\n",
    "\n",
    "# Scalers\n",
    "from sklearn.preprocessing import MinMaxScaler"
   ]
  },
  {
   "cell_type": "code",
   "execution_count": 2,
   "id": "38153c30-fda6-409d-b535-c0d314c29bd7",
   "metadata": {},
   "outputs": [],
   "source": [
    "# feature extraction parameters\n",
    "opt = {\n",
    "        'sharpness_factor': 10,\n",
    "        'bordersize': 3,\n",
    "        'show_images': False,\n",
    "        'is_binary': False,\n",
    "        'LBP_numPoints': 8,\n",
    "        'LBP_radius':1,\n",
    "        'LBP_method': 'uniform',\n",
    "        'HOG_width': 64,\n",
    "        'HOG_height': 128,\n",
    "    }"
   ]
  },
  {
   "cell_type": "code",
   "execution_count": 3,
   "id": "b075d125-431a-46c4-b332-41eb36631cb6",
   "metadata": {},
   "outputs": [
    {
     "name": "stdout",
     "output_type": "stream",
     "text": [
      "0start ..\n",
      "1start ..\n"
     ]
    }
   ],
   "source": [
    "X, Y = read_data(\"data_set\", windows=False)\n"
   ]
  },
  {
   "cell_type": "code",
   "execution_count": 4,
   "id": "d7cc2136-c765-49b5-b7e1-6f2ff275e100",
   "metadata": {},
   "outputs": [],
   "source": [
    "data_train, data_test, y_train, y_test = train_test_split(X, Y, test_size=0.2, random_state=42)"
   ]
  },
  {
   "cell_type": "code",
   "execution_count": 6,
   "id": "940a788d-c24d-4326-b5c0-f89773177d48",
   "metadata": {},
   "outputs": [
    {
     "name": "stderr",
     "output_type": "stream",
     "text": [
      "  0%|                                                                                          | 0/290 [00:00<?, ?it/s]C:\\Users\\Yousif-Ahmed\\anaconda3\\lib\\site-packages\\skimage\\_shared\\utils.py:338: FutureWarning: `multichannel` is a deprecated argument name for `hog`. It will be removed in version 1.0.Please use `channel_axis` instead.\n",
      "  return func(*args, **kwargs)\n",
      "C:\\Users\\Yousif-Ahmed\\gender-classification\\cold_feature_extraction.py:127: RuntimeWarning: divide by zero encountered in log10\n",
      "  rhos_log_space = np.log10(rhos)\n",
      "100%|████████████████████████████████████████████████████████████████████████████████| 290/290 [11:58<00:00,  2.48s/it]\n"
     ]
    }
   ],
   "source": [
    "HOG_feature_training, HINGE_feature_training, COLD_feature_training = extract_features(imgs=data_train, options=opt)"
   ]
  },
  {
   "cell_type": "code",
   "execution_count": 7,
   "id": "c2652d5e-6785-4bb6-8efa-dd606864c156",
   "metadata": {},
   "outputs": [
    {
     "name": "stderr",
     "output_type": "stream",
     "text": [
      "100%|██████████████████████████████████████████████████████████████████████████████████| 73/73 [02:25<00:00,  2.00s/it]\n"
     ]
    }
   ],
   "source": [
    "HOG_feature_testing, HINGE_feature_testing, COLD_feature_testing = extract_features(imgs=data_test, options=opt)"
   ]
  },
  {
   "cell_type": "markdown",
   "id": "82636a20-1fa1-4a26-bf79-9e403f069019",
   "metadata": {},
   "source": [
    "## Scaling Features"
   ]
  },
  {
   "cell_type": "code",
   "execution_count": 10,
   "id": "21976872-8709-4ea7-9ed1-a51820f4b2d1",
   "metadata": {
    "jupyter": {
     "outputs_hidden": true
    },
    "tags": []
   },
   "outputs": [],
   "source": [
    "# scaler = MinMaxScaler()\n",
    "# training_features = scaler.fit_transform(training_HOG)\n",
    "# testing_features = scaler.transform(testing_HOG)"
   ]
  },
  {
   "cell_type": "code",
   "execution_count": null,
   "id": "f19b2484",
   "metadata": {},
   "outputs": [],
   "source": [
    "scaler = MinMaxScaler()\n",
    "HOG_feature_training_scaled  = scaler.fit_transform(HOG_feature_training)\n",
    "HOG_feature_testing_sclaed = scaler.transform(HOG_feature_testing)\n",
    "\n",
    "HINGE_feature_training_scaled = scaler.fit_transform(HINGE_feature_training)\n",
    "HINGE_feature_testing_scaled = scaler.transform(HINGE_feature_testing)\n",
    "\n",
    "COLD_feature_training_scaled = scaler.fit_transform(COLD_feature_training)\n",
    "COLD_feature_testing_scaled = scaler.transform(COLD_feature_testing)"
   ]
  },
  {
   "cell_type": "markdown",
   "id": "22010f2a-e55a-43c1-8f7b-c9a4a37e157c",
   "metadata": {},
   "source": [
    "## SVM"
   ]
  },
  {
   "cell_type": "markdown",
   "id": "a7a403e7-8ada-4ebd-be21-98df38f557ef",
   "metadata": {},
   "source": [
    "### HOG"
   ]
  },
  {
   "cell_type": "code",
   "execution_count": 12,
   "id": "0d3ce73c-69f0-4421-8a2a-5eed9e00d1d6",
   "metadata": {},
   "outputs": [
    {
     "name": "stdout",
     "output_type": "stream",
     "text": [
      "Testing accuracy is 73.97\n"
     ]
    },
    {
     "name": "stderr",
     "output_type": "stream",
     "text": [
      "C:\\Users\\Yousif-Ahmed\\anaconda3\\lib\\site-packages\\sklearn\\svm\\_base.py:985: ConvergenceWarning: Liblinear failed to converge, increase the number of iterations.\n",
      "  warnings.warn(\"Liblinear failed to converge, increase \"\n"
     ]
    }
   ],
   "source": [
    "svm_hog = LinearSVC(C=100, random_state=42, max_iter=2000)\n",
    "svm_hog = svm_hog.fit(HOG_feature_training, y_train)\n",
    "test_pred_hog_svm = svm_hog.predict(HOG_feature_testing)\n",
    "print(f\"Testing accuracy is %0.2f\"%(np.sum(test_pred_hog_svm == y_test)/len(y_test) * 100))"
   ]
  },
  {
   "cell_type": "code",
   "execution_count": 13,
   "id": "23958f28-82fa-421b-98b4-d05caeb0d485",
   "metadata": {},
   "outputs": [
    {
     "name": "stdout",
     "output_type": "stream",
     "text": [
      "Testing accuracy is 75.34\n"
     ]
    }
   ],
   "source": [
    "svm_hog = LinearSVC(C=100, random_state=42, max_iter=2000)\n",
    "svm_hog = svm_hog.fit(HOG_feature_training_scaled, y_train)\n",
    "test_pred_hog_svm = svm_hog.predict(HOG_feature_testing_sclaed)\n",
    "print(f\"Testing accuracy is %0.2f\"%(np.sum(test_pred_hog_svm == y_test)/len(y_test) * 100))"
   ]
  },
  {
   "cell_type": "markdown",
   "id": "96961b31-f275-4e9d-84cb-d116042605fd",
   "metadata": {},
   "source": [
    "### HINGE"
   ]
  },
  {
   "cell_type": "code",
   "execution_count": 14,
   "id": "f1d0f70a-b83d-4e1d-8904-4b0b67e4d29e",
   "metadata": {},
   "outputs": [
    {
     "name": "stdout",
     "output_type": "stream",
     "text": [
      "Testing accuracy is 69.86\n"
     ]
    }
   ],
   "source": [
    "svm_hinge = LinearSVC(C=100, random_state=42, max_iter=5000)\n",
    "svm_hinge = svm_hinge.fit(HINGE_feature_training, y_train)\n",
    "test_pred_hinge_svm = svm_hinge.predict(HINGE_feature_testing)\n",
    "print(f\"Testing accuracy is %0.2f\"%(np.sum(test_pred_hinge_svm == y_test)/len(y_test) * 100))"
   ]
  },
  {
   "cell_type": "code",
   "execution_count": 15,
   "id": "c18d2918-3484-4355-8995-06e9823f9311",
   "metadata": {},
   "outputs": [
    {
     "name": "stdout",
     "output_type": "stream",
     "text": [
      "Testing accuracy is 78.08\n"
     ]
    }
   ],
   "source": [
    "svm_hinge = LinearSVC(C=100, random_state=42, max_iter=5000)\n",
    "svm_hinge = svm_hinge.fit(HINGE_feature_training_scaled, y_train)\n",
    "test_pred_hinge_svm = svm_hinge.predict(HINGE_feature_testing_scaled)\n",
    "print(f\"Testing accuracy is %0.2f\"%(np.sum(test_pred_hinge_svm == y_test)/len(y_test) * 100))"
   ]
  },
  {
   "cell_type": "markdown",
   "id": "69a393fc-8e50-483d-b9bc-16039b6fa5f6",
   "metadata": {},
   "source": [
    "### COLD"
   ]
  },
  {
   "cell_type": "code",
   "execution_count": 16,
   "id": "37ddd406-a242-41d0-bde2-f22942763e7f",
   "metadata": {},
   "outputs": [
    {
     "name": "stdout",
     "output_type": "stream",
     "text": [
      "Testing accuracy is 65.75\n"
     ]
    },
    {
     "name": "stderr",
     "output_type": "stream",
     "text": [
      "C:\\Users\\Yousif-Ahmed\\anaconda3\\lib\\site-packages\\sklearn\\svm\\_base.py:985: ConvergenceWarning: Liblinear failed to converge, increase the number of iterations.\n",
      "  warnings.warn(\"Liblinear failed to converge, increase \"\n"
     ]
    }
   ],
   "source": [
    "svm_cold = LinearSVC(C=80, random_state=42, max_iter=5000)\n",
    "svm_cold = svm_cold.fit(COLD_feature_training_scaled, y_train)\n",
    "test_pred_cold_svm = svm_cold.predict(COLD_feature_testing_scaled)\n",
    "print(f\"Testing accuracy is %0.2f\"%(np.sum(test_pred_cold_svm == y_test)/len(y_test) * 100))"
   ]
  },
  {
   "cell_type": "markdown",
   "id": "439a5c79-1398-42fb-96f8-cb54eba5db97",
   "metadata": {},
   "source": [
    "## Gradient Boosting Classifier"
   ]
  },
  {
   "cell_type": "markdown",
   "id": "b90782b8-fc27-455b-9342-cffc8673565c",
   "metadata": {},
   "source": [
    "### HOG"
   ]
  },
  {
   "cell_type": "code",
   "execution_count": 17,
   "id": "739b9324-a5e5-4348-90a3-f3bce8d288b6",
   "metadata": {},
   "outputs": [
    {
     "name": "stdout",
     "output_type": "stream",
     "text": [
      "Testing accuracy is 72.60\n"
     ]
    }
   ],
   "source": [
    "gradient_booster_hog = GradientBoostingClassifier(n_estimators=100, learning_rate=1.0,max_depth=1, random_state=0)\n",
    "gradient_booster_hog = gradient_booster_hog.fit(HOG_feature_training, y_train)\n",
    "test_pred_hog_gradient = gradient_booster_hog.predict(HOG_feature_testing)\n",
    "print(f\"Testing accuracy is %0.2f\"%(np.sum(test_pred_hog_gradient == y_test)/len(y_test) * 100))"
   ]
  },
  {
   "cell_type": "code",
   "execution_count": 18,
   "id": "49dd0a42-cb97-4640-8521-6811acd2dd18",
   "metadata": {},
   "outputs": [
    {
     "name": "stdout",
     "output_type": "stream",
     "text": [
      "Testing accuracy is 75.34\n"
     ]
    }
   ],
   "source": [
    "gradient_booster_hog = GradientBoostingClassifier(n_estimators=100,loss='exponential', learning_rate=1.0,max_depth=1, random_state=0)\n",
    "gradient_booster_hog = gradient_booster_hog.fit(HOG_feature_training_scaled, y_train)\n",
    "test_pred_hog_gradient = gradient_booster_hog.predict(HOG_feature_testing_sclaed)\n",
    "print(f\"Testing accuracy is %0.2f\"%(np.sum(test_pred_hog_gradient == y_test)/len(y_test) * 100))"
   ]
  },
  {
   "cell_type": "markdown",
   "id": "f90af61c-4ac5-414c-aac8-758c244a5434",
   "metadata": {},
   "source": [
    "### HINGE"
   ]
  },
  {
   "cell_type": "code",
   "execution_count": 19,
   "id": "8950727f-fcaa-44e0-8db3-6ddb458a0bd0",
   "metadata": {},
   "outputs": [
    {
     "name": "stdout",
     "output_type": "stream",
     "text": [
      "Testing accuracy is 73.97\n"
     ]
    }
   ],
   "source": [
    "gradient_booster_hinge = GradientBoostingClassifier(n_estimators=100, learning_rate=1.0,max_depth=1, random_state=0)\n",
    "gradient_booster_hinge = gradient_booster_hinge.fit(HINGE_feature_training, y_train)\n",
    "test_pred_hinge_gradient = gradient_booster_hinge.predict(HINGE_feature_testing)\n",
    "print(f\"Testing accuracy is %0.2f\"%(np.sum(test_pred_hinge_gradient == y_test)/len(y_test) * 100))"
   ]
  },
  {
   "cell_type": "code",
   "execution_count": 20,
   "id": "0d1973c6-aa01-4c35-acd0-7c62cc348e66",
   "metadata": {},
   "outputs": [
    {
     "name": "stdout",
     "output_type": "stream",
     "text": [
      "Testing accuracy is 73.97\n"
     ]
    }
   ],
   "source": [
    "gradient_booster_hinge = GradientBoostingClassifier(n_estimators=100,learning_rate=1.0,max_depth=1, random_state=0)\n",
    "gradient_booster_hinge = gradient_booster_hinge.fit(HINGE_feature_training_scaled, y_train)\n",
    "test_pred_hinge_gradient = gradient_booster_hinge.predict(HINGE_feature_testing_scaled)\n",
    "print(f\"Testing accuracy is %0.2f\"%(np.sum(test_pred_hinge_gradient == y_test)/len(y_test) * 100))"
   ]
  },
  {
   "cell_type": "markdown",
   "id": "0fcb9773-ee56-4cdb-b438-456e6ffc9b63",
   "metadata": {},
   "source": [
    "### COLD"
   ]
  },
  {
   "cell_type": "code",
   "execution_count": 21,
   "id": "1acdbc4a-df4b-4481-91e7-d72d061e15a6",
   "metadata": {},
   "outputs": [
    {
     "name": "stdout",
     "output_type": "stream",
     "text": [
      "Testing accuracy is 57.53\n"
     ]
    }
   ],
   "source": [
    "gradient_booster_cold = GradientBoostingClassifier(n_estimators=100, learning_rate=1.0,max_depth=1, random_state=0)\n",
    "gradient_booster_cold = gradient_booster_cold.fit(COLD_feature_training, y_train)\n",
    "test_pred_cold_gradient = gradient_booster_cold.predict(COLD_feature_testing)\n",
    "print(f\"Testing accuracy is %0.2f\"%(np.sum(test_pred_cold_gradient == y_test)/len(y_test) * 100))"
   ]
  },
  {
   "cell_type": "code",
   "execution_count": 22,
   "id": "cb0c8d00-873a-4fa0-9610-b4cfeda150fb",
   "metadata": {},
   "outputs": [
    {
     "name": "stdout",
     "output_type": "stream",
     "text": [
      "Testing accuracy is 57.53\n"
     ]
    }
   ],
   "source": [
    "gradient_booster_cold = GradientBoostingClassifier(n_estimators=100, learning_rate=1.0,max_depth=1, random_state=0)\n",
    "gradient_booster_cold = gradient_booster_cold.fit(COLD_feature_training_scaled, y_train)\n",
    "test_pred_cold_gradient = gradient_booster_cold.predict(COLD_feature_testing_scaled)\n",
    "print(f\"Testing accuracy is %0.2f\"%(np.sum(test_pred_cold_gradient == y_test)/len(y_test) * 100))"
   ]
  },
  {
   "cell_type": "markdown",
   "id": "6707fd26-6a47-488f-a75e-f86315b6208f",
   "metadata": {
    "tags": []
   },
   "source": [
    "## LogisticRegression"
   ]
  },
  {
   "cell_type": "markdown",
   "id": "05891a8b-655a-4397-9197-820fe00e9253",
   "metadata": {},
   "source": [
    "### HOG"
   ]
  },
  {
   "cell_type": "code",
   "execution_count": 23,
   "id": "e098b060-a136-4f28-b767-da2a260f7b56",
   "metadata": {},
   "outputs": [
    {
     "name": "stdout",
     "output_type": "stream",
     "text": [
      "Testing accuracy is 75.34\n"
     ]
    }
   ],
   "source": [
    "lg_hog = LogisticRegression(random_state=42, max_iter=1000, C=10)\n",
    "lg_hog = lg_hog.fit(HOG_feature_training, y_train)\n",
    "test_pred_hog_lg = lg_hog.predict(HOG_feature_testing)\n",
    "print(f\"Testing accuracy is %0.2f\"%(np.sum(test_pred_hog_lg == y_test)/len(y_test) * 100))"
   ]
  },
  {
   "cell_type": "code",
   "execution_count": 24,
   "id": "f3378d65-b31a-4de6-9b5f-915f13f561d7",
   "metadata": {},
   "outputs": [
    {
     "name": "stdout",
     "output_type": "stream",
     "text": [
      "Testing accuracy is 71.23\n"
     ]
    }
   ],
   "source": [
    "lg_hog = LogisticRegression(random_state=42, max_iter=1000, C=10)\n",
    "lg_hog = lg_hog.fit(HOG_feature_training_scaled, y_train)\n",
    "test_pred_hog_lg = lg_hog.predict(HOG_feature_testing_sclaed)\n",
    "print(f\"Testing accuracy is %0.2f\"%(np.sum(test_pred_hog_lg == y_test)/len(y_test) * 100))"
   ]
  },
  {
   "cell_type": "markdown",
   "id": "ba183fc0-d9f8-43db-8f60-55f0e73846fc",
   "metadata": {},
   "source": [
    "### HINGE"
   ]
  },
  {
   "cell_type": "code",
   "execution_count": 25,
   "id": "41f06d7b-528a-4814-930d-3d2c6c5bfc22",
   "metadata": {},
   "outputs": [
    {
     "name": "stdout",
     "output_type": "stream",
     "text": [
      "Testing accuracy is 65.75\n"
     ]
    }
   ],
   "source": [
    "lg_hinge = LogisticRegression(random_state=42, max_iter=1000, C=10)\n",
    "lg_hinge = lg_hinge.fit(HINGE_feature_training, y_train)\n",
    "test_pred_hinge_lg = lg_hinge.predict(HINGE_feature_testing)\n",
    "print(f\"Testing accuracy is %0.2f\"%(np.sum(test_pred_hinge_lg == y_test)/len(y_test) * 100))"
   ]
  },
  {
   "cell_type": "code",
   "execution_count": 26,
   "id": "d5f52b3f-78b2-4bc6-a8af-ac28c9f6ca27",
   "metadata": {},
   "outputs": [
    {
     "name": "stdout",
     "output_type": "stream",
     "text": [
      "Testing accuracy is 76.71\n"
     ]
    }
   ],
   "source": [
    "lg_hinge = LogisticRegression(random_state=42, max_iter=1000, C=10, class_weight=\"balanced\")\n",
    "lg_hinge = lg_hinge.fit(HINGE_feature_training_scaled, y_train)\n",
    "test_pred_hinge_lg = lg_hinge.predict(HINGE_feature_testing_scaled)\n",
    "print(f\"Testing accuracy is %0.2f\"%(np.sum(test_pred_hinge_lg == y_test)/len(y_test) * 100))"
   ]
  },
  {
   "cell_type": "markdown",
   "id": "92659369-c405-4724-b382-0af9526c133b",
   "metadata": {},
   "source": [
    "### COLD"
   ]
  },
  {
   "cell_type": "code",
   "execution_count": 29,
   "id": "c8a77366-7dca-4baf-ba2f-94df473c8887",
   "metadata": {},
   "outputs": [
    {
     "name": "stdout",
     "output_type": "stream",
     "text": [
      "Testing accuracy is 65.75\n"
     ]
    }
   ],
   "source": [
    "lg_cold = LogisticRegression(random_state=42, max_iter=1000, C=10)\n",
    "lg_cold = lg_cold.fit(COLD_feature_training, y_train)\n",
    "test_pred_cold_lg = lg_cold.predict(COLD_feature_testing)\n",
    "print(f\"Testing accuracy is %0.2f\"%(np.sum(test_pred_cold_lg == y_test)/len(y_test) * 100))"
   ]
  },
  {
   "cell_type": "code",
   "execution_count": 30,
   "id": "6ca257c2-f178-416b-91f0-b836d0cdc65d",
   "metadata": {},
   "outputs": [
    {
     "name": "stdout",
     "output_type": "stream",
     "text": [
      "Testing accuracy is 80.82\n"
     ]
    }
   ],
   "source": [
    "lg_cold = LogisticRegression(random_state=42, max_iter=1000, C=10, class_weight=\"balanced\")\n",
    "lg_cold = lg_cold.fit(COLD_feature_training_scaled, y_train)\n",
    "test_pred_cold_lg = lg_cold.predict(COLD_feature_testing_scaled)\n",
    "print(f\"Testing accuracy is %0.2f\"%(np.sum(test_pred_cold_lg == y_test)/len(y_test) * 100))"
   ]
  },
  {
   "cell_type": "markdown",
   "id": "9b3a632c-d766-4d03-acf3-4d91fcd59977",
   "metadata": {},
   "source": [
    "# Voting Classifier\n",
    "\n",
    "- Logistic Regressor => HOG\n",
    "- Gradient Boosting Classifier => HINGE\n",
    "- SVM => COLD"
   ]
  },
  {
   "cell_type": "code",
   "execution_count": 31,
   "id": "ec2b04d2-340f-41dd-b5de-bace6cf42a7c",
   "metadata": {},
   "outputs": [],
   "source": [
    "final_train= np.concatenate((svm_cold.predict(COLD_feature_training_scaled).reshape(-1, 1), gradient_booster_hinge.predict(HINGE_feature_training_scaled).reshape(-1, 1)), axis=1)\n",
    "final_train = np.concatenate((final_train, lg_hog.predict(HOG_feature_training_scaled).reshape(-1, 1)), axis=1)\n",
    "\n",
    "final_test = np.concatenate((svm_cold.predict(COLD_feature_testing_scaled).reshape(-1, 1), gradient_booster_hinge.predict(HINGE_feature_testing_scaled).reshape(-1, 1)), axis=1)\n",
    "final_test = np.concatenate((final_test, lg_hog.predict(HOG_feature_testing_sclaed).reshape(-1, 1)), axis=1)"
   ]
  },
  {
   "cell_type": "code",
   "execution_count": 32,
   "id": "c443dadd-c446-4b13-8ab1-768c2930457a",
   "metadata": {},
   "outputs": [
    {
     "name": "stdout",
     "output_type": "stream",
     "text": [
      "Testing accuracy is 72.60\n"
     ]
    }
   ],
   "source": [
    "final_y = y_train\n",
    "clf = LogisticRegression(random_state=42, max_iter=1000, C=10, class_weight=\"balanced\")\n",
    "clf = clf.fit(final_train, final_y)\n",
    "test_predicted = clf.predict(final_test)\n",
    "print(f\"Testing accuracy is %0.2f\"%(np.sum(test_predicted == y_test)/len(y_test) * 100))"
   ]
  },
  {
   "cell_type": "markdown",
   "id": "16dc172d-0c28-4acb-976b-59b3004feb69",
   "metadata": {},
   "source": [
    "## GridSearchCV"
   ]
  },
  {
   "cell_type": "code",
   "execution_count": 33,
   "id": "0131b2fa-f87a-4af1-8adc-fdb7c265152f",
   "metadata": {},
   "outputs": [],
   "source": [
    "all_train_features = np.concatenate((HOG_feature_training_scaled, HINGE_feature_training_scaled), axis=1)\n",
    "all_train_features = np.concatenate((all_train_features, COLD_feature_training_scaled), axis=1)\n",
    "\n",
    "all_test_features = np.concatenate((HOG_feature_testing_sclaed, HINGE_feature_testing_scaled), axis=1)\n",
    "all_test_features = np.concatenate((all_test_features, COLD_feature_testing_scaled), axis=1)"
   ]
  },
  {
   "cell_type": "code",
   "execution_count": null,
   "id": "047a5de3",
   "metadata": {},
   "outputs": [],
   "source": [
    "from sklearn.model_selection import GridSearchCV\n",
    "\n",
    "clf = GradientBoostingClassifier()\n",
    "parameters = {\n",
    "    'loss': ('log_loss', 'exponential'), \n",
    "    'learning_rate': [1,1.2,1.5], \n",
    "    'max_depth': [3,5,8]\n",
    "}\n",
    "grid_clf = GridSearchCV(clf, parameters, scoring='f1')\n",
    "grid_clf.fit(all_train_features, y_train)"
   ]
  },
  {
   "cell_type": "code",
   "execution_count": null,
   "id": "ef3039f5",
   "metadata": {},
   "outputs": [],
   "source": [
    "print(f\"Training score is %0.2f\"%(grid_clf.score(all_train_features, y_train) * 100))\n",
    "test_pred = grid_clf.predict(all_test_features)\n",
    "print(f\"Testing accuracy is %0.2f\"%(np.sum(test_pred == y_test)/len(y_test) * 100))"
   ]
  },
  {
   "cell_type": "code",
   "execution_count": 36,
   "id": "c4367a55-e1aa-4a43-8bba-683d133fca43",
   "metadata": {},
   "outputs": [
    {
     "data": {
      "text/plain": [
       "GridSearchCV(estimator=LinearSVC(max_iter=5000, random_state=42),\n",
       "             param_grid={'C': [1, 10, 100]}, scoring='f1')"
      ]
     },
     "execution_count": 36,
     "metadata": {},
     "output_type": "execute_result"
    }
   ],
   "source": [
    "clf2 = LinearSVC(max_iter=5000, random_state=42)\n",
    "\n",
    "parameters2 = {\n",
    "    'C': [1,10,100]\n",
    "}\n",
    "\n",
    "grid_clf2 = GridSearchCV(clf2, parameters2, scoring='f1')\n",
    "grid_clf2.fit(all_train_features, y_train)"
   ]
  },
  {
   "cell_type": "code",
   "execution_count": 37,
   "id": "83677f7a-210c-4692-bc4b-86c081d42a8f",
   "metadata": {},
   "outputs": [
    {
     "name": "stdout",
     "output_type": "stream",
     "text": [
      "Training score is 100.00\n",
      "Testing accuracy is 83.56\n"
     ]
    }
   ],
   "source": [
    "print(f\"Training score is %0.2f\"%(grid_clf2.score(all_train_features, y_train) * 100))\n",
    "\n",
    "\n",
    "test_pred = grid_clf2.predict(all_test_features)\n",
    "print(f\"Testing accuracy is %0.2f\"%(np.sum(test_pred == y_test)/len(y_test) * 100))"
   ]
  },
  {
   "cell_type": "code",
   "execution_count": 80,
   "id": "b55fd988-d40b-4b45-a260-62510310f50b",
   "metadata": {},
   "outputs": [
    {
     "data": {
      "text/plain": [
       "(290, 2172)"
      ]
     },
     "execution_count": 80,
     "metadata": {},
     "output_type": "execute_result"
    }
   ],
   "source": [
    "all_train_features.shape"
   ]
  },
  {
   "cell_type": "code",
   "execution_count": 81,
   "id": "f5f94413-21e4-43cf-a5f4-d91992cf7d46",
   "metadata": {},
   "outputs": [
    {
     "data": {
      "text/plain": [
       "(290, 972)"
      ]
     },
     "execution_count": 81,
     "metadata": {},
     "output_type": "execute_result"
    }
   ],
   "source": [
    "HOG_feature_training_scaled.shape"
   ]
  },
  {
   "cell_type": "code",
   "execution_count": 82,
   "id": "649ff9e1-14d7-4b82-aca7-43cec5437d54",
   "metadata": {},
   "outputs": [
    {
     "data": {
      "text/plain": [
       "(290, 780)"
      ]
     },
     "execution_count": 82,
     "metadata": {},
     "output_type": "execute_result"
    }
   ],
   "source": [
    "HINGE_feature_training_scaled.shape"
   ]
  },
  {
   "cell_type": "code",
   "execution_count": 83,
   "id": "c729835f-8dd3-4364-8b81-33f3c0a0b42e",
   "metadata": {},
   "outputs": [
    {
     "data": {
      "text/plain": [
       "(290, 420)"
      ]
     },
     "execution_count": 83,
     "metadata": {},
     "output_type": "execute_result"
    }
   ],
   "source": [
    "COLD_feature_training_scaled.shape"
   ]
  },
  {
   "cell_type": "markdown",
   "id": "9ef36cfa-b0a4-4f97-9790-f31bbd7fa16e",
   "metadata": {},
   "source": [
    "# Feature Selection"
   ]
  },
  {
   "cell_type": "code",
   "execution_count": 66,
   "id": "20103392-7a77-4118-9439-a5150082e5d4",
   "metadata": {},
   "outputs": [],
   "source": [
    "from sklearn.feature_selection import RFECV"
   ]
  },
  {
   "cell_type": "code",
   "execution_count": null,
   "id": "e6511ffe-c989-4262-948a-d7731a6c55eb",
   "metadata": {
    "tags": []
   },
   "outputs": [],
   "source": [
    "rfecv = RFECV(\n",
    "    estimator=GradientBoostingClassifier(n_estimators=100, learning_rate=1.0,max_depth=1, random_state=0),\n",
    "    cv=3,\n",
    "    scoring=\"r2\",\n",
    "    n_jobs=-1,\n",
    "    min_features_to_select=2,\n",
    ")\n",
    "rfecv.fit(all_train_features, y_train)\n",
    "\n",
    "rfecv.support_"
   ]
  },
  {
   "cell_type": "markdown",
   "id": "437b1d2f",
   "metadata": {},
   "source": [
    "## Testing our best pre-trained model"
   ]
  },
  {
   "cell_type": "code",
   "execution_count": 2,
   "id": "73100c34-247d-4620-8f2c-8f0178d90f5e",
   "metadata": {},
   "outputs": [
    {
     "name": "stderr",
     "output_type": "stream",
     "text": [
      "c:\\Users\\Donia\\anaconda3\\lib\\site-packages\\sklearn\\base.py:329: UserWarning: Trying to unpickle estimator LinearSVC from version 1.0.2 when using version 0.23.2. This might lead to breaking code or invalid results. Use at your own risk.\n",
      "  warnings.warn(\n"
     ]
    },
    {
     "name": "stdout",
     "output_type": "stream",
     "text": [
      "Testing accuracy is 86.30\n",
      "classification rate Testing Accuracy = 85.75\n",
      "              precision    recall  f1-score   support\n",
      "\n",
      "           0       0.91      0.88      0.89        48\n",
      "           1       0.78      0.84      0.81        25\n",
      "\n",
      "    accuracy                           0.86        73\n",
      "   macro avg       0.85      0.86      0.85        73\n",
      "weighted avg       0.87      0.86      0.86        73\n",
      "\n",
      "Confusion Matrix Testing Accuracy Data\n",
      "array([[87.50, 12.50],\n",
      "       [16.00, 84.00]])\n"
     ]
    },
    {
     "data": {
      "image/png": "[encoded data removed]",
      "text/plain": [
       "<Figure size 432x288 with 2 Axes>"
      ]
     },
     "metadata": {
      "needs_background": "light"
     },
     "output_type": "display_data"
    }
   ],
   "source": [
    "y_test, test_pred = loadModelAndGetAccuraccyLocalTesting(\"test.csv\",\"test_classes.csv\",\"best_model_ever.sav\")\n",
    "model_evaluation(y_test , test_pred , \"Testing Accuracy\")"
   ]
  },
  {
   "cell_type": "code",
   "execution_count": null,
   "id": "5c1faa98",
   "metadata": {},
   "outputs": [],
   "source": []
  }
 ],
 "metadata": {
  "interpreter": {
   "hash": "0b0ef5f0ed5a8304c794243ac59cd3d89c3bef0367378030b53f572ec4c615a1"
  },
  "kernelspec": {
   "display_name": "Python 3.8.5 ('base')",
   "language": "python",
   "name": "python3"
  },
  "language_info": {
   "codemirror_mode": {
    "name": "ipython",
    "version": 3
   },
   "file_extension": ".py",
   "mimetype": "text/x-python",
   "name": "python",
   "nbconvert_exporter": "python",
   "pygments_lexer": "ipython3",
   "version": "3.8.5"
  }
 },
 "nbformat": 4,
 "nbformat_minor": 5
}
