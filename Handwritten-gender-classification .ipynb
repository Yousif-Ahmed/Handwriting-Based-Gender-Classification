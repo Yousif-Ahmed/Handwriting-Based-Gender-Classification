{
 "cells": [
  {
   "cell_type": "code",
   "execution_count": 8,
   "id": "f135eb51",
   "metadata": {},
   "outputs": [],
   "source": [
    "import cv2\n",
    "import os\n",
    "import matplotlib.pyplot as plt\n",
    "import numpy as np\n",
    "from sklearn.model_selection import train_test_split\n",
    "import seaborn as sns\n",
    "from hinge_feature_extraction import * \n",
    "from cold_feature_extraction  import * \n",
    "from PIL import Image, ImageEnhance\n",
    "from tqdm import tqdm\n",
    "from sklearn.preprocessing import MinMaxScaler\n",
    "from sklearn.metrics import classification_report, confusion_matrix\n",
    "from sklearn.svm import SVC\n",
    "from sklearn.model_selection import cross_val_score, cross_val_predict, RandomizedSearchCV\n",
    "from sklearn.pipeline import make_pipeline\n",
    "from sklearn.preprocessing import StandardScaler"
   ]
  },
  {
   "cell_type": "markdown",
   "id": "c0030769",
   "metadata": {},
   "source": [
    "### Reading handwritten images from file and store it with it's lable \n",
    "for male y =0 and for female y =1"
   ]
  },
  {
   "cell_type": "code",
   "execution_count": 9,
   "id": "974c2ca9",
   "metadata": {},
   "outputs": [],
   "source": [
    "# feature extraction parameters\n",
    "opt = {\n",
    "        'input_folder': r\"<IMAGES FOLDER IMAGES ARE STORED>\",\n",
    "        'output_folder': r\"<FOLDER WHERE FEATURES ARE STORED\",\n",
    "        'sharpness_factor': 10,\n",
    "        'bordersize': 3,\n",
    "        'show_images': False,\n",
    "        'is_binary': False,\n",
    "    }"
   ]
  },
  {
   "cell_type": "code",
   "execution_count": 10,
   "id": "58537a6a",
   "metadata": {},
   "outputs": [],
   "source": [
    "hinge_feature_vector = []\n",
    "cold_feature_vector =[]\n",
    "feature_vector =[]\n",
    "y_data =[]\n",
    "cold = Cold(opt)\n",
    "hinge = Hinge(opt)"
   ]
  },
  {
   "cell_type": "code",
   "execution_count": 11,
   "id": "b39260a4",
   "metadata": {
    "scrolled": true
   },
   "outputs": [],
   "source": [
    "lables = [\"Males\" , \"Females\"]\n",
    "\n",
    "def feature_extraction(filename):\n",
    "    data = []\n",
    "    currentDirectory = os.getcwd()\n",
    "    # for each class we read it's data \n",
    "    for lable in lables:\n",
    "         directory = filename+\"\\\\\"+ lable+\"\\\\\"+lable+\"\\\\\"\n",
    "         path =os.path.join(currentDirectory, directory)\n",
    "         class_lable = lables.index(lable)\n",
    "         print(str(class_lable) + \"-Start ..\")\n",
    "         for imagename in tqdm(os.listdir(path)):\n",
    "            try:\n",
    "                img_path = os.path.join(path, imagename)\n",
    "                hinge_f = hinge.get_hinge_features(img_path)\n",
    "                cold_f = cold.get_cold_features(img_path)\n",
    "                hinge_feature_vector.append(hinge_f)\n",
    "                cold_feature_vector.append(cold_f)\n",
    "                feature_vector.append([hinge_f , cold_f])\n",
    "                y_data.append(class_lable)\n",
    "            except Exception as e :\n",
    "                print (e)\n",
    "\n",
    "    return np.array(data)\n"
   ]
  },
  {
   "cell_type": "code",
   "execution_count": 12,
   "id": "9a3bf41a",
   "metadata": {},
   "outputs": [
    {
     "name": "stdout",
     "output_type": "stream",
     "text": [
      "0-Start ..\n"
     ]
    },
    {
     "name": "stderr",
     "output_type": "stream",
     "text": [
      "  0%|          | 0/232 [00:00<?, ?it/s]c:\\Users\\LENOVO\\Desktop\\NN\\gender-classification\\cold_feature_extraction.py:117: RuntimeWarning: divide by zero encountered in log10\n",
      "  rhos_log_space = np.log10(rhos)\n",
      "100%|██████████| 232/232 [31:54<00:00,  8.25s/it]\n"
     ]
    },
    {
     "name": "stdout",
     "output_type": "stream",
     "text": [
      "1-Start ..\n"
     ]
    },
    {
     "name": "stderr",
     "output_type": "stream",
     "text": [
      "100%|██████████| 131/131 [15:22<00:00,  7.04s/it]\n"
     ]
    }
   ],
   "source": [
    "data = feature_extraction(\"data_set\") \n"
   ]
  },
  {
   "cell_type": "markdown",
   "id": "319c57e9",
   "metadata": {},
   "source": [
    "### spliting the data with randomness and visualizing the data "
   ]
  },
  {
   "cell_type": "code",
   "execution_count": 13,
   "id": "b2574a9f",
   "metadata": {},
   "outputs": [
    {
     "data": {
      "text/plain": [
       "((363, 780), (363, 420), (363, 1200))"
      ]
     },
     "execution_count": 13,
     "metadata": {},
     "output_type": "execute_result"
    }
   ],
   "source": [
    "feture_vector = np.concatenate((hinge_feature_vector,cold_feature_vector) , axis=1)\n",
    "np.shape(hinge_feature_vector) , np.shape(cold_feature_vector) , feture_vector.shape\n"
   ]
  },
  {
   "cell_type": "code",
   "execution_count": 14,
   "id": "bef9af91",
   "metadata": {},
   "outputs": [
    {
     "data": {
      "text/plain": [
       "(290, 1200)"
      ]
     },
     "execution_count": 14,
     "metadata": {},
     "output_type": "execute_result"
    }
   ],
   "source": [
    "x_train , x_test , y_train , y_test = train_test_split(feture_vector ,y_data , test_size =0.20 , random_state =42)\n",
    "x_train.shape"
   ]
  },
  {
   "cell_type": "code",
   "execution_count": 15,
   "id": "d2eb2430",
   "metadata": {},
   "outputs": [
    {
     "name": "stdout",
     "output_type": "stream",
     "text": [
      "[LibSVM]"
     ]
    }
   ],
   "source": [
    "x_hinge_train = x_train[:,:780]\n",
    "x_hinge_test = x_test[:,:780]\n",
    "\n",
    "scaler = StandardScaler()\n",
    "xtrain = scaler.fit_transform(x_hinge_train)\n",
    "xtest = scaler.fit_transform(x_hinge_test)\n",
    "\n",
    "xtrain = np.nan_to_num(xtrain)\n",
    "xtest = np.nan_to_num(xtest)\n",
    "\n",
    "clf1 = SVC(kernel='rbf', verbose=True, C=10.0)\n",
    "clf1.fit(xtrain, y_train)\n",
    "\n",
    "y_pred_hinge = clf1.predict(xtrain)\n",
    "y_pred_hinge_test = clf1.predict(xtest)\n"
   ]
  },
  {
   "cell_type": "code",
   "execution_count": 16,
   "id": "61b57206",
   "metadata": {},
   "outputs": [
    {
     "name": "stdout",
     "output_type": "stream",
     "text": [
      "[LibSVM]"
     ]
    }
   ],
   "source": [
    "x_cold_train = x_train[:,780:]\n",
    "x_cold_test = x_test[:,780:]\n",
    "\n",
    "scaler = StandardScaler()\n",
    "\n",
    "xtrain = scaler.fit_transform(x_cold_train)\n",
    "xtest = scaler.fit_transform(x_cold_test)\n",
    "\n",
    "xtrain = np.nan_to_num(xtrain)\n",
    "xtest = np.nan_to_num(xtest)\n",
    "\n",
    "clf2 = SVC(kernel='rbf', verbose=True, C=10.0)\n",
    "clf2.fit(xtrain, y_train)\n",
    "\n",
    "y_pred_cold = clf2.predict(xtrain)\n",
    "y_pred_cold_test = clf2.predict(xtest)\n"
   ]
  },
  {
   "cell_type": "code",
   "execution_count": 17,
   "id": "c7454580",
   "metadata": {},
   "outputs": [],
   "source": [
    "y_pred = np.maximum(y_pred_hinge, y_pred_cold)\n",
    "y_pred_test =np.maximum(y_pred_hinge_test, y_pred_cold_test)"
   ]
  },
  {
   "cell_type": "code",
   "execution_count": 18,
   "id": "000f0f41",
   "metadata": {},
   "outputs": [
    {
     "name": "stdout",
     "output_type": "stream",
     "text": [
      "Confusion Matrix\n",
      "array([[79.17, 20.83],\n",
      "       [16.00, 84.00]])\n"
     ]
    }
   ],
   "source": [
    "print('Confusion Matrix')\n",
    "cf = confusion_matrix(y_test, y_pred_test)\n",
    "cf_sum = cf.sum(axis = 1)[:, np.newaxis]\n",
    "cf = np.round(cf / cf_sum * 100, 2)\n",
    "float_formatter = \"{:.2f}\".format\n",
    "np.set_printoptions(formatter={'float_kind':float_formatter})\n",
    "print(repr(cf))"
   ]
  },
  {
   "cell_type": "code",
   "execution_count": 19,
   "id": "86cca3a8",
   "metadata": {},
   "outputs": [
    {
     "name": "stdout",
     "output_type": "stream",
     "text": [
      "classification rate -test = 81.59\n",
      "              precision    recall  f1-score   support\n",
      "\n",
      "           0       0.90      0.79      0.84        48\n",
      "           1       0.68      0.84      0.75        25\n",
      "\n",
      "    accuracy                           0.81        73\n",
      "   macro avg       0.79      0.82      0.80        73\n",
      "weighted avg       0.83      0.81      0.81        73\n",
      "\n"
     ]
    }
   ],
   "source": [
    "cr = 0.0\n",
    "for i in range(0, cf.shape[0]):\n",
    "        cr += cf[i][i]\n",
    "        \n",
    "cr /= cf.shape[0]\n",
    "print(f'classification rate -test = {np.round(cr, 2)}')\n",
    "    \n",
    "print(classification_report(y_test, y_pred_test))\n",
    "\n"
   ]
  },
  {
   "cell_type": "code",
   "execution_count": 7,
   "id": "31e709d1",
   "metadata": {},
   "outputs": [],
   "source": [
    "im = Image.open(\"data_set\\Females\\Females\\F1.jpg\")\n",
    "# convert to binary image\n",
    "im.show()\n",
    "gray = im.convert('1')\n",
    "gray.show()"
   ]
  },
  {
   "cell_type": "code",
   "execution_count": null,
   "id": "c9babcdd",
   "metadata": {},
   "outputs": [],
   "source": []
  }
 ],
 "metadata": {
  "interpreter": {
   "hash": "7679c2132d3f6ce38c9df14d554b39c06862b36a4e6689c81f9ae15bd0911d7d"
  },
  "kernelspec": {
   "display_name": "Python 3.8.8 ('base')",
   "language": "python",
   "name": "python3"
  },
  "language_info": {
   "codemirror_mode": {
    "name": "ipython",
    "version": 3
   },
   "file_extension": ".py",
   "mimetype": "text/x-python",
   "name": "python",
   "nbconvert_exporter": "python",
   "pygments_lexer": "ipython3",
   "version": "3.8.8"
  }
 },
 "nbformat": 4,
 "nbformat_minor": 5
}
