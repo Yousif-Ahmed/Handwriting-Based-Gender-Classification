{
 "cells": [
  {
   "cell_type": "code",
   "execution_count": 1,
   "id": "f135eb51",
   "metadata": {},
   "outputs": [],
   "source": [
    "import cv2\n",
    "import os\n",
    "import matplotlib.pyplot as plt\n",
    "import numpy as np\n",
    "from sklearn.model_selection import train_test_split\n",
    "import seaborn as sns\n",
    "from hinge_feature_extraction import * \n",
    "from cold_feature_extraction  import * \n",
    "from PIL import Image, ImageEnhance\n",
    "from tqdm import tqdm\n",
    "from sklearn.preprocessing import MinMaxScaler\n",
    "from sklearn.metrics import classification_report, confusion_matrix\n",
    "from sklearn.svm import SVC\n",
    "from sklearn.model_selection import cross_val_score, cross_val_predict, RandomizedSearchCV\n",
    "from sklearn.pipeline import make_pipeline\n",
    "from sklearn.preprocessing import StandardScaler\n",
    "from threading import Thread\n",
    "from multiprocessing.pool import ThreadPool\n",
    "import pickle\n",
    "import time "
   ]
  },
  {
   "cell_type": "markdown",
   "id": "c0030769",
   "metadata": {},
   "source": [
    "### Reading handwritten images from file and store it with it's lable \n",
    "for male y =0 and for female y =1"
   ]
  },
  {
   "cell_type": "code",
   "execution_count": 2,
   "id": "974c2ca9",
   "metadata": {},
   "outputs": [],
   "source": [
    "# feature extraction parameters\n",
    "opt = {\n",
    "        'sharpness_factor': 10,\n",
    "        'bordersize': 3,\n",
    "        'show_images': False,\n",
    "        'is_binary': False,\n",
    "    }"
   ]
  },
  {
   "cell_type": "code",
   "execution_count": 3,
   "id": "58537a6a",
   "metadata": {},
   "outputs": [],
   "source": [
    "hinge_feature_vector = []\n",
    "cold_feature_vector =[]\n",
    "y_data =[]\n",
    "Hinge_Model_name  =\"SVM_HINGE_MODEL\"\n",
    "Cold_Model_name =\"SVM_COLD_MODEL\"\n",
    "cold = Cold(opt)\n",
    "hinge = Hinge(opt)"
   ]
  },
  {
   "cell_type": "code",
   "execution_count": 4,
   "id": "b39260a4",
   "metadata": {
    "scrolled": true
   },
   "outputs": [],
   "source": [
    "lables = [\"Males\" , \"Females\"]\n",
    "\n",
    "def feature_extraction(filename):\n",
    "    currentDirectory = os.getcwd()\n",
    "\n",
    "    # for each class we read it's data \n",
    "    for lable in lables:\n",
    "         directory = filename+\"\\\\\"+ lable+\"\\\\\"+lable+\"\\\\\"\n",
    "         path =os.path.join(currentDirectory, directory)\n",
    "         class_lable = lables.index(lable)\n",
    "         print(str(class_lable) + \"-Start ..\")\n",
    "         for imagename in tqdm(os.listdir(path)):\n",
    "            try:\n",
    "                img_path = os.path.join(path, imagename)\n",
    "                im = Image.open(img_path)\n",
    "                hinge_f = hinge.get_hinge_features(im)\n",
    "                cold_f = cold.get_cold_features(im)\n",
    "\n",
    "                hinge_feature_vector.append(hinge_f)\n",
    "                cold_feature_vector.append(cold_f)\n",
    "                y_data.append(class_lable)\n",
    "            except Exception as e :\n",
    "                print (e)\n",
    "\n"
   ]
  },
  {
   "cell_type": "code",
   "execution_count": 5,
   "id": "ed977162",
   "metadata": {},
   "outputs": [],
   "source": [
    "def svm_model_training (x_train , y_train, C_ =10.0):\n",
    "    \n",
    "    # using standart scaler for data transfromation\n",
    "    scaler = StandardScaler()\n",
    "    xtrain = scaler.fit_transform(x_train)\n",
    "    \n",
    "    #converting any nan value to number \n",
    "    xtrain = np.nan_to_num(xtrain)\n",
    "\n",
    "    # geting our svm model from sklearn for train it with \n",
    "    # feature data and lable data\n",
    "    clf = SVC(kernel='rbf', verbose=True, C= C_)\n",
    "    clf.fit(xtrain, y_train)\n",
    "\n",
    "    y_pred = clf.predict(xtrain)\n",
    "    return clf , y_pred\n"
   ]
  },
  {
   "cell_type": "code",
   "execution_count": 6,
   "id": "ba08a1c2",
   "metadata": {},
   "outputs": [],
   "source": [
    "def save_model (model , model_name):\n",
    "    filename = model_name+'.sav'\n",
    "    pickle.dump(model, open(filename, 'wb'))\n",
    "def load_model (model_name):\n",
    "    filename = model_name+'.sav'\n",
    "    loaded_model = pickle.load(open(filename, 'rb'))\n",
    "    return loaded_model"
   ]
  },
  {
   "cell_type": "code",
   "execution_count": 22,
   "id": "639cbbc3",
   "metadata": {},
   "outputs": [],
   "source": [
    "def model_pipeline_testing(filename ,clf_H_name = Hinge_Model_name,clf_C_name=Cold_Model_name):\n",
    "    '''\n",
    "        This function responsible for testing our models\n",
    "        we have to svm models one for cold feature and one for hinge feature \n",
    "        clf_H trained model with Hinge feature \n",
    "        clf_C trained model with Cold feature \n",
    "    '''\n",
    "    \n",
    "    result_file = open(\"results.txt\" ,\"w\")\n",
    "    time_file = open(\"time.txt\" , \"w\")\n",
    "    \n",
    "    # loading trained models \n",
    "    clf_H = load_model(clf_H_name)\n",
    "    clf_C = load_model(clf_C_name)\n",
    "    hinge_f_vector=[]\n",
    "    cold_f_vector=[]\n",
    "    currentDirectory = os.getcwd()\n",
    "    directory = filename+\"\\\\\"\n",
    "    path =os.path.join(currentDirectory, directory)\n",
    "    for imagename in (os.listdir(path)):\n",
    "            try:\n",
    "                \n",
    "                # for each image in the path \n",
    "                img_path = os.path.join(path, imagename)\n",
    "                im = Image.open(img_path)\n",
    "                start = time.time()\n",
    "                # getting image cold and hinge feature \n",
    "                hinge_f = hinge.get_hinge_features(im)\n",
    "                cold_f = cold.get_cold_features(im)\n",
    "                #storing it in the feature vectors \n",
    "                end = time.time()\n",
    "                time_file.write(str(end-start) +\"\\n\")\n",
    "                hinge_f_vector.append(hinge_f)\n",
    "                cold_f_vector.append(cold_f)\n",
    "            except Exception as e :\n",
    "                    print (e)\n",
    "    # using trained model for hinge and cold \n",
    "    y_pred_hinge =clf_H.predict(hinge_f_vector)\n",
    "    y_pred_cold  =clf_C.predict(cold_f_vector)\n",
    "    y_pred = np.maximum(y_pred_hinge, y_pred_cold)\n",
    "    for i in y_pred:\n",
    "        result_file.write(str(i) +\"\\n\")\n",
    "    result_file.close()\n",
    "    time_file.close()"
   ]
  },
  {
   "cell_type": "code",
   "execution_count": 8,
   "id": "cfb19e3c",
   "metadata": {},
   "outputs": [],
   "source": [
    "def model_evaluation (y_test , y_predict , Lable =\"Testing\"):\n",
    "    # testing our model using confusion matrix \n",
    "    cf = confusion_matrix(y_test, y_predict)\n",
    "    cf_sum = cf.sum(axis = 1)[:, np.newaxis]\n",
    "    cf = np.round(cf / cf_sum * 100, 2)\n",
    "    float_formatter = \"{:.2f}\".format\n",
    "    np.set_printoptions(formatter={'float_kind':float_formatter})    \n",
    "    cr = 0.0\n",
    "    for i in range(0, cf.shape[0]):\n",
    "            cr += cf[i][i]\n",
    "\n",
    "    cr /= cf.shape[0]\n",
    "    print('classification rate '+Lable +' = '+ str(np.round(cr, 2)))\n",
    "\n",
    "    print(classification_report(y_test, y_predict))\n",
    "    print('Confusion Matrix ' + Lable + \" Data\")\n",
    "    \n",
    "    print(repr(cf))\n",
    "    sns.heatmap(cf, annot=True,  fmt='', cmap='Blues')"
   ]
  },
  {
   "cell_type": "code",
   "execution_count": 9,
   "id": "9a3bf41a",
   "metadata": {},
   "outputs": [
    {
     "name": "stdout",
     "output_type": "stream",
     "text": [
      "0-Start ..\n"
     ]
    },
    {
     "name": "stderr",
     "output_type": "stream",
     "text": [
      "  0%|                                                                                          | 0/232 [00:00<?, ?it/s]C:\\Users\\Yousif-Ahmed\\gender-classification\\cold_feature_extraction.py:115: RuntimeWarning: divide by zero encountered in log10\n",
      "  rhos_log_space = np.log10(rhos)\n",
      "100%|████████████████████████████████████████████████████████████████████████████████| 232/232 [15:02<00:00,  3.89s/it]\n"
     ]
    },
    {
     "name": "stdout",
     "output_type": "stream",
     "text": [
      "1-Start ..\n"
     ]
    },
    {
     "name": "stderr",
     "output_type": "stream",
     "text": [
      "100%|████████████████████████████████████████████████████████████████████████████████| 131/131 [07:52<00:00,  3.61s/it]\n"
     ]
    }
   ],
   "source": [
    "\n",
    "data = feature_extraction(\"data_set\") \n"
   ]
  },
  {
   "cell_type": "markdown",
   "id": "319c57e9",
   "metadata": {},
   "source": [
    "## Spliting The Data With Randomness   "
   ]
  },
  {
   "cell_type": "code",
   "execution_count": 10,
   "id": "b2574a9f",
   "metadata": {},
   "outputs": [],
   "source": [
    "feature_vector = np.concatenate((hinge_feature_vector,cold_feature_vector) , axis=1)\n",
    "np.shape(hinge_feature_vector) , np.shape(cold_feature_vector) , feature_vector.shape\n",
    "hinge_max = np.shape(hinge_feature_vector)[1]\n"
   ]
  },
  {
   "cell_type": "code",
   "execution_count": 11,
   "id": "bef9af91",
   "metadata": {},
   "outputs": [],
   "source": [
    "x_train , x_test , y_train , y_test = train_test_split(feature_vector ,y_data , test_size =0.20 , random_state =40)\n"
   ]
  },
  {
   "cell_type": "markdown",
   "id": "e5a2ec36",
   "metadata": {},
   "source": [
    "##  Training Data Visualization"
   ]
  },
  {
   "cell_type": "code",
   "execution_count": 12,
   "id": "9380c682",
   "metadata": {},
   "outputs": [
    {
     "name": "stderr",
     "output_type": "stream",
     "text": [
      "C:\\Users\\Yousif-Ahmed\\anaconda3\\lib\\site-packages\\seaborn\\_decorators.py:36: FutureWarning: Pass the following variable as a keyword arg: x. From version 0.12, the only valid positional argument will be `data`, and passing other arguments without an explicit keyword will result in an error or misinterpretation.\n",
      "  warnings.warn(\n"
     ]
    },
    {
     "data": {
      "text/plain": [
       "<AxesSubplot:ylabel='count'>"
      ]
     },
     "execution_count": 12,
     "metadata": {},
     "output_type": "execute_result"
    },
    {
     "data": {
      "image/png": "[encoded data removed]",
      "text/plain": [
       "<Figure size 432x288 with 1 Axes>"
      ]
     },
     "metadata": {},
     "output_type": "display_data"
    }
   ],
   "source": [
    "lables = []\n",
    "for i in y_train:\n",
    "    if(i == 0):\n",
    "        lables.append(\"Males\")\n",
    "    else:\n",
    "        lables.append(\"Females\")\n",
    "sns.set_style('darkgrid')\n",
    "sns.countplot(lables)\n"
   ]
  },
  {
   "cell_type": "markdown",
   "id": "ace59aa8",
   "metadata": {},
   "source": [
    "## Training and Testing The Model With Hinge Feature \n"
   ]
  },
  {
   "cell_type": "code",
   "execution_count": 13,
   "id": "d2eb2430",
   "metadata": {},
   "outputs": [
    {
     "name": "stdout",
     "output_type": "stream",
     "text": [
      "[LibSVM]SVC(C=10.0, verbose=True)\n"
     ]
    }
   ],
   "source": [
    "\n",
    "x_hinge_train = x_train[:,:hinge_max]\n",
    "x_hinge_test = x_test[:,:hinge_max]\n",
    "\n",
    "scaler = StandardScaler()\n",
    "xtest = scaler.fit_transform(x_hinge_test)\n",
    "xtest = np.nan_to_num(xtest)\n",
    "\n",
    "\n",
    "clf_H , y_pred_hinge = svm_model_training (x_hinge_train , y_train)\n",
    "y_pred_hinge_test = clf_H.predict(xtest)\n",
    "save_model (clf_H , Hinge_Model_name)\n",
    "print(clf_H)"
   ]
  },
  {
   "cell_type": "markdown",
   "id": "1282d836",
   "metadata": {},
   "source": [
    "## Training and Testing The Model With Cold Feature"
   ]
  },
  {
   "cell_type": "code",
   "execution_count": 14,
   "id": "61b57206",
   "metadata": {},
   "outputs": [
    {
     "name": "stdout",
     "output_type": "stream",
     "text": [
      "[LibSVM]SVC(C=10.0, verbose=True)\n"
     ]
    }
   ],
   "source": [
    "x_cold_train = x_train[:,hinge_max:]\n",
    "x_cold_test = x_test[:,hinge_max:]\n",
    "\n",
    "scaler = StandardScaler()\n",
    "xtest = scaler.fit_transform(x_cold_test)\n",
    "xtest = np.nan_to_num(xtest)\n",
    "\n",
    "\n",
    "\n",
    "clf_C ,y_pred_cold = svm_model_training(x_cold_train , y_train)\n",
    "y_pred_cold_test = clf_C.predict(xtest)\n",
    "\n",
    "save_model (clf_C , Cold_Model_name)\n",
    "print(clf_C)"
   ]
  },
  {
   "cell_type": "code",
   "execution_count": 15,
   "id": "c7454580",
   "metadata": {},
   "outputs": [],
   "source": [
    "y_pred = np.maximum(y_pred_hinge, y_pred_cold)\n",
    "y_pred_test =np.maximum(y_pred_hinge_test, y_pred_cold_test)"
   ]
  },
  {
   "cell_type": "markdown",
   "id": "77f85f7c",
   "metadata": {},
   "source": [
    "## Model Evaluation"
   ]
  },
  {
   "cell_type": "code",
   "execution_count": 16,
   "id": "86cca3a8",
   "metadata": {},
   "outputs": [
    {
     "name": "stdout",
     "output_type": "stream",
     "text": [
      "classification rate Training = 99.47\n",
      "              precision    recall  f1-score   support\n",
      "\n",
      "           0       1.00      0.99      0.99       188\n",
      "           1       0.98      1.00      0.99       102\n",
      "\n",
      "    accuracy                           0.99       290\n",
      "   macro avg       0.99      0.99      0.99       290\n",
      "weighted avg       0.99      0.99      0.99       290\n",
      "\n",
      "Confusion Matrix Training Data\n",
      "array([[98.94, 1.06],\n",
      "       [0.00, 100.00]])\n"
     ]
    },
    {
     "data": {
      "image/png": "[encoded data removed]",
      "text/plain": [
       "<Figure size 432x288 with 2 Axes>"
      ]
     },
     "metadata": {},
     "output_type": "display_data"
    }
   ],
   "source": [
    "model_evaluation(y_train , y_pred , \"Training\")"
   ]
  },
  {
   "cell_type": "code",
   "execution_count": 17,
   "id": "31e709d1",
   "metadata": {},
   "outputs": [
    {
     "name": "stdout",
     "output_type": "stream",
     "text": [
      "classification rate Testing = 77.11\n",
      "              precision    recall  f1-score   support\n",
      "\n",
      "           0       0.82      0.82      0.82        44\n",
      "           1       0.72      0.72      0.72        29\n",
      "\n",
      "    accuracy                           0.78        73\n",
      "   macro avg       0.77      0.77      0.77        73\n",
      "weighted avg       0.78      0.78      0.78        73\n",
      "\n",
      "Confusion Matrix Testing Data\n",
      "array([[81.82, 18.18],\n",
      "       [27.59, 72.41]])\n"
     ]
    },
    {
     "data": {
      "image/png": "[encoded data removed]",
      "text/plain": [
       "<Figure size 432x288 with 2 Axes>"
      ]
     },
     "metadata": {},
     "output_type": "display_data"
    }
   ],
   "source": [
    "model_evaluation(y_test , y_pred_test , \"Testing\" )"
   ]
  },
  {
   "cell_type": "code",
   "execution_count": 23,
   "id": "c9babcdd",
   "metadata": {},
   "outputs": [
    {
     "name": "stderr",
     "output_type": "stream",
     "text": [
      "C:\\Users\\Yousif-Ahmed\\gender-classification\\cold_feature_extraction.py:115: RuntimeWarning: divide by zero encountered in log10\n",
      "  rhos_log_space = np.log10(rhos)\n"
     ]
    }
   ],
   "source": [
    "y_pred =model_pipeline_testing(\"test\")"
   ]
  },
  {
   "cell_type": "code",
   "execution_count": null,
   "id": "a0f242ae",
   "metadata": {},
   "outputs": [],
   "source": []
  },
  {
   "cell_type": "code",
   "execution_count": null,
   "id": "d8731864",
   "metadata": {},
   "outputs": [],
   "source": []
  }
 ],
 "metadata": {
  "interpreter": {
   "hash": "2e564bcb643484d6ad9a15911ca06b322e8ebcfc81f10ee8e6138ffa0b563201"
  },
  "kernelspec": {
   "display_name": "Python 3 (ipykernel)",
   "language": "python",
   "name": "python3"
  },
  "language_info": {
   "codemirror_mode": {
    "name": "ipython",
    "version": 3
   },
   "file_extension": ".py",
   "mimetype": "text/x-python",
   "name": "python",
   "nbconvert_exporter": "python",
   "pygments_lexer": "ipython3",
   "version": "3.9.7"
  }
 },
 "nbformat": 4,
 "nbformat_minor": 5
}
